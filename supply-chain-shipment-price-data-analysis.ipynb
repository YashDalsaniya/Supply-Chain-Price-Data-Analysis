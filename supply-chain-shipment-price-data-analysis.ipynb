{
 "cells": [
  {
   "cell_type": "markdown",
   "metadata": {
    "papermill": {
     "duration": 0.023129,
     "end_time": "2020-11-20T17:19:32.558928",
     "exception": false,
     "start_time": "2020-11-20T17:19:32.535799",
     "status": "completed"
    },
    "tags": []
   },
   "source": [
    "#   Supply Chain Shipment Pricing Data - Data Analysis and Modeling\n",
    "\n",
    "Dataset Description: This data set provides supply chain health commodity shipment and pricing data.\n",
    "\n",
    "File Descriptions\n",
    "\n",
    "File Name :\tSCMS_Delivery_History_Dataset.csv\n",
    "File Size :\tApprox. 570kb\n",
    "Total Records :\t10,324\n",
    "File Updated :\tFebruary 24, 2016\n",
    "\n",
    "Following are steps for Data Analysis and Modeling\n",
    "\n",
    "* Import Packages\n",
    "* Import CSV file\n",
    "* Check Total Records in CSV file\n",
    "* Check DataType of CSV file\n",
    "* Print first 10 and last 10 recods from DataSet\n",
    "* Total 10 Country wise count with graph\n",
    "* Total Pack Price for Top 15 Countries with graph\n",
    "* First Line Designation Wise Count with graph\n",
    "* Shipment Mode percentage wise Pie Chart\n",
    "* Unquie Manufacturing Site Names\n",
    "* Shipment Mode, Min and Mean value for Air\n",
    "* Top 10 Manufacturing Site for all Shipment Mode with Graph\n",
    "* Top 10 Manufacturing Site for Air Shipment Mode with Graph\n",
    "* Pack Price analysis using Distributions and Plot Graph\n",
    "* Shipment Mode and Pack Price in Bar Plot Graph\n",
    "\n",
    "Now, lets begin with Data!!!\n",
    "\n",
    "**Import Packages**"
   ]
  },
  {
   "cell_type": "code",
   "execution_count": 1,
   "metadata": {
    "_cell_guid": "b1076dfc-b9ad-4769-8c92-a6c4dae69d19",
    "_uuid": "8f2839f25d086af736a60e9eeb907d3b93b6e0e5",
    "execution": {
     "iopub.execute_input": "2020-11-20T17:19:32.615140Z",
     "iopub.status.busy": "2020-11-20T17:19:32.614157Z",
     "iopub.status.idle": "2020-11-20T17:19:33.813919Z",
     "shell.execute_reply": "2020-11-20T17:19:33.813089Z"
    },
    "papermill": {
     "duration": 1.234355,
     "end_time": "2020-11-20T17:19:33.814063",
     "exception": false,
     "start_time": "2020-11-20T17:19:32.579708",
     "status": "completed"
    },
    "tags": []
   },
   "outputs": [
    {
     "data": {
      "text/html": [
       "        <script type=\"text/javascript\">\n",
       "        window.PlotlyConfig = {MathJaxConfig: 'local'};\n",
       "        if (window.MathJax) {MathJax.Hub.Config({SVG: {font: \"STIX-Web\"}});}\n",
       "        if (typeof require !== 'undefined') {\n",
       "        require.undef(\"plotly\");\n",
       "        requirejs.config({\n",
       "            paths: {\n",
       "                'plotly': ['https://cdn.plot.ly/plotly-latest.min']\n",
       "            }\n",
       "        });\n",
       "        require(['plotly'], function(Plotly) {\n",
       "            window._Plotly = Plotly;\n",
       "        });\n",
       "        }\n",
       "        </script>\n",
       "        "
      ]
     },
     "metadata": {},
     "output_type": "display_data"
    }
   ],
   "source": [
    "import pandas as pd\n",
    "import numpy as np\n",
    "from decimal import Decimal\n",
    "import matplotlib.pyplot as plt\n",
    "%matplotlib inline\n",
    "import seaborn as sn\n",
    "import os\n",
    "import plotly.graph_objs as go\n",
    "import plotly.offline as py\n",
    "py.init_notebook_mode(connected=True)\n",
    "pd.options.mode.chained_assignment = None\n",
    "pd.options.display.max_columns = 9999\n",
    "pd.options.display.float_format = '{:20,.2f}'.format"
   ]
  },
  {
   "cell_type": "code",
   "execution_count": 2,
   "metadata": {
    "execution": {
     "iopub.execute_input": "2020-11-20T17:19:33.879017Z",
     "iopub.status.busy": "2020-11-20T17:19:33.878166Z",
     "iopub.status.idle": "2020-11-20T17:19:34.055338Z",
     "shell.execute_reply": "2020-11-20T17:19:34.054689Z"
    },
    "papermill": {
     "duration": 0.218715,
     "end_time": "2020-11-20T17:19:34.055493",
     "exception": false,
     "start_time": "2020-11-20T17:19:33.836778",
     "status": "completed"
    },
    "tags": []
   },
   "outputs": [],
   "source": [
    "DataSet = pd.read_csv('../input/supply-chain-delivery-dataset/SCMS_Delivery_History_Dataset.csv/SCMS_Delivery_History_Dataset.csv').fillna(0)"
   ]
  },
  {
   "cell_type": "markdown",
   "metadata": {
    "papermill": {
     "duration": 0.020635,
     "end_time": "2020-11-20T17:19:34.097069",
     "exception": false,
     "start_time": "2020-11-20T17:19:34.076434",
     "status": "completed"
    },
    "tags": []
   },
   "source": [
    "# Check Total Records in CSV file"
   ]
  },
  {
   "cell_type": "code",
   "execution_count": 3,
   "metadata": {
    "execution": {
     "iopub.execute_input": "2020-11-20T17:19:34.146386Z",
     "iopub.status.busy": "2020-11-20T17:19:34.145327Z",
     "iopub.status.idle": "2020-11-20T17:19:34.150649Z",
     "shell.execute_reply": "2020-11-20T17:19:34.149726Z"
    },
    "papermill": {
     "duration": 0.032803,
     "end_time": "2020-11-20T17:19:34.150816",
     "exception": false,
     "start_time": "2020-11-20T17:19:34.118013",
     "status": "completed"
    },
    "tags": []
   },
   "outputs": [
    {
     "name": "stdout",
     "output_type": "stream",
     "text": [
      "Total Number of Data Count : 10324\n"
     ]
    }
   ],
   "source": [
    "TotalRowCount = len(DataSet)\n",
    "print(\"Total Number of Data Count :\", TotalRowCount)"
   ]
  },
  {
   "cell_type": "markdown",
   "metadata": {
    "papermill": {
     "duration": 0.02235,
     "end_time": "2020-11-20T17:19:34.195281",
     "exception": false,
     "start_time": "2020-11-20T17:19:34.172931",
     "status": "completed"
    },
    "tags": []
   },
   "source": [
    "# Check DataType of CSV file"
   ]
  },
  {
   "cell_type": "code",
   "execution_count": 4,
   "metadata": {
    "execution": {
     "iopub.execute_input": "2020-11-20T17:19:34.255999Z",
     "iopub.status.busy": "2020-11-20T17:19:34.245018Z",
     "iopub.status.idle": "2020-11-20T17:19:34.261294Z",
     "shell.execute_reply": "2020-11-20T17:19:34.260477Z"
    },
    "papermill": {
     "duration": 0.044067,
     "end_time": "2020-11-20T17:19:34.261437",
     "exception": false,
     "start_time": "2020-11-20T17:19:34.217370",
     "status": "completed"
    },
    "tags": []
   },
   "outputs": [
    {
     "data": {
      "text/plain": [
       "ID                                int64\n",
       "Project Code                     object\n",
       "PQ #                             object\n",
       "PO / SO #                        object\n",
       "ASN/DN #                         object\n",
       "Country                          object\n",
       "Managed By                       object\n",
       "Fulfill Via                      object\n",
       "Vendor INCO Term                 object\n",
       "Shipment Mode                    object\n",
       "PQ First Sent to Client Date     object\n",
       "PO Sent to Vendor Date           object\n",
       "Scheduled Delivery Date          object\n",
       "Delivered to Client Date         object\n",
       "Delivery Recorded Date           object\n",
       "Product Group                    object\n",
       "Sub Classification               object\n",
       "Vendor                           object\n",
       "Item Description                 object\n",
       "Molecule/Test Type               object\n",
       "Brand                            object\n",
       "Dosage                           object\n",
       "Dosage Form                      object\n",
       "Unit of Measure (Per Pack)        int64\n",
       "Line Item Quantity                int64\n",
       "Line Item Value                 float64\n",
       "Pack Price                      float64\n",
       "Unit Price                      float64\n",
       "Manufacturing Site               object\n",
       "First Line Designation           object\n",
       "Weight (Kilograms)               object\n",
       "Freight Cost (USD)               object\n",
       "Line Item Insurance (USD)       float64\n",
       "dtype: object"
      ]
     },
     "execution_count": 4,
     "metadata": {},
     "output_type": "execute_result"
    }
   ],
   "source": [
    "DataSet.dtypes"
   ]
  },
  {
   "cell_type": "markdown",
   "metadata": {
    "papermill": {
     "duration": 0.021908,
     "end_time": "2020-11-20T17:19:34.305831",
     "exception": false,
     "start_time": "2020-11-20T17:19:34.283923",
     "status": "completed"
    },
    "tags": []
   },
   "source": [
    "# Print first 10 and last 10 recods from DataSet"
   ]
  },
  {
   "cell_type": "code",
   "execution_count": 5,
   "metadata": {
    "execution": {
     "iopub.execute_input": "2020-11-20T17:19:34.378010Z",
     "iopub.status.busy": "2020-11-20T17:19:34.376758Z",
     "iopub.status.idle": "2020-11-20T17:19:34.407114Z",
     "shell.execute_reply": "2020-11-20T17:19:34.407744Z"
    },
    "papermill": {
     "duration": 0.079854,
     "end_time": "2020-11-20T17:19:34.407927",
     "exception": false,
     "start_time": "2020-11-20T17:19:34.328073",
     "status": "completed"
    },
    "tags": []
   },
   "outputs": [
    {
     "data": {
      "text/html": [
       "<div>\n",
       "<style scoped>\n",
       "    .dataframe tbody tr th:only-of-type {\n",
       "        vertical-align: middle;\n",
       "    }\n",
       "\n",
       "    .dataframe tbody tr th {\n",
       "        vertical-align: top;\n",
       "    }\n",
       "\n",
       "    .dataframe thead th {\n",
       "        text-align: right;\n",
       "    }\n",
       "</style>\n",
       "<table border=\"1\" class=\"dataframe\">\n",
       "  <thead>\n",
       "    <tr style=\"text-align: right;\">\n",
       "      <th></th>\n",
       "      <th>ID</th>\n",
       "      <th>Project Code</th>\n",
       "      <th>PQ #</th>\n",
       "      <th>PO / SO #</th>\n",
       "      <th>ASN/DN #</th>\n",
       "      <th>Country</th>\n",
       "      <th>Managed By</th>\n",
       "      <th>Fulfill Via</th>\n",
       "      <th>Vendor INCO Term</th>\n",
       "      <th>Shipment Mode</th>\n",
       "      <th>PQ First Sent to Client Date</th>\n",
       "      <th>PO Sent to Vendor Date</th>\n",
       "      <th>Scheduled Delivery Date</th>\n",
       "      <th>Delivered to Client Date</th>\n",
       "      <th>Delivery Recorded Date</th>\n",
       "      <th>Product Group</th>\n",
       "      <th>Sub Classification</th>\n",
       "      <th>Vendor</th>\n",
       "      <th>Item Description</th>\n",
       "      <th>Molecule/Test Type</th>\n",
       "      <th>Brand</th>\n",
       "      <th>Dosage</th>\n",
       "      <th>Dosage Form</th>\n",
       "      <th>Unit of Measure (Per Pack)</th>\n",
       "      <th>Line Item Quantity</th>\n",
       "      <th>Line Item Value</th>\n",
       "      <th>Pack Price</th>\n",
       "      <th>Unit Price</th>\n",
       "      <th>Manufacturing Site</th>\n",
       "      <th>First Line Designation</th>\n",
       "      <th>Weight (Kilograms)</th>\n",
       "      <th>Freight Cost (USD)</th>\n",
       "      <th>Line Item Insurance (USD)</th>\n",
       "    </tr>\n",
       "  </thead>\n",
       "  <tbody>\n",
       "    <tr>\n",
       "      <th>0</th>\n",
       "      <td>1</td>\n",
       "      <td>100-CI-T01</td>\n",
       "      <td>Pre-PQ Process</td>\n",
       "      <td>SCMS-4</td>\n",
       "      <td>ASN-8</td>\n",
       "      <td>Côte d'Ivoire</td>\n",
       "      <td>PMO - US</td>\n",
       "      <td>Direct Drop</td>\n",
       "      <td>EXW</td>\n",
       "      <td>Air</td>\n",
       "      <td>Pre-PQ Process</td>\n",
       "      <td>Date Not Captured</td>\n",
       "      <td>2-Jun-06</td>\n",
       "      <td>2-Jun-06</td>\n",
       "      <td>2-Jun-06</td>\n",
       "      <td>HRDT</td>\n",
       "      <td>HIV test</td>\n",
       "      <td>RANBAXY Fine Chemicals LTD.</td>\n",
       "      <td>HIV, Reveal G3 Rapid HIV-1 Antibody Test, 30 T...</td>\n",
       "      <td>HIV, Reveal G3 Rapid HIV-1 Antibody Test</td>\n",
       "      <td>Reveal</td>\n",
       "      <td>0</td>\n",
       "      <td>Test kit</td>\n",
       "      <td>30</td>\n",
       "      <td>19</td>\n",
       "      <td>551.00</td>\n",
       "      <td>29.00</td>\n",
       "      <td>0.97</td>\n",
       "      <td>Ranbaxy Fine Chemicals LTD</td>\n",
       "      <td>Yes</td>\n",
       "      <td>13</td>\n",
       "      <td>780.34</td>\n",
       "      <td>0.00</td>\n",
       "    </tr>\n",
       "    <tr>\n",
       "      <th>1</th>\n",
       "      <td>3</td>\n",
       "      <td>108-VN-T01</td>\n",
       "      <td>Pre-PQ Process</td>\n",
       "      <td>SCMS-13</td>\n",
       "      <td>ASN-85</td>\n",
       "      <td>Vietnam</td>\n",
       "      <td>PMO - US</td>\n",
       "      <td>Direct Drop</td>\n",
       "      <td>EXW</td>\n",
       "      <td>Air</td>\n",
       "      <td>Pre-PQ Process</td>\n",
       "      <td>Date Not Captured</td>\n",
       "      <td>14-Nov-06</td>\n",
       "      <td>14-Nov-06</td>\n",
       "      <td>14-Nov-06</td>\n",
       "      <td>ARV</td>\n",
       "      <td>Pediatric</td>\n",
       "      <td>Aurobindo Pharma Limited</td>\n",
       "      <td>Nevirapine 10mg/ml, oral suspension, Bottle, 2...</td>\n",
       "      <td>Nevirapine</td>\n",
       "      <td>Generic</td>\n",
       "      <td>10mg/ml</td>\n",
       "      <td>Oral suspension</td>\n",
       "      <td>240</td>\n",
       "      <td>1000</td>\n",
       "      <td>6,200.00</td>\n",
       "      <td>6.20</td>\n",
       "      <td>0.03</td>\n",
       "      <td>Aurobindo Unit III, India</td>\n",
       "      <td>Yes</td>\n",
       "      <td>358</td>\n",
       "      <td>4521.5</td>\n",
       "      <td>0.00</td>\n",
       "    </tr>\n",
       "    <tr>\n",
       "      <th>2</th>\n",
       "      <td>4</td>\n",
       "      <td>100-CI-T01</td>\n",
       "      <td>Pre-PQ Process</td>\n",
       "      <td>SCMS-20</td>\n",
       "      <td>ASN-14</td>\n",
       "      <td>Côte d'Ivoire</td>\n",
       "      <td>PMO - US</td>\n",
       "      <td>Direct Drop</td>\n",
       "      <td>FCA</td>\n",
       "      <td>Air</td>\n",
       "      <td>Pre-PQ Process</td>\n",
       "      <td>Date Not Captured</td>\n",
       "      <td>27-Aug-06</td>\n",
       "      <td>27-Aug-06</td>\n",
       "      <td>27-Aug-06</td>\n",
       "      <td>HRDT</td>\n",
       "      <td>HIV test</td>\n",
       "      <td>Abbott GmbH &amp; Co. KG</td>\n",
       "      <td>HIV 1/2, Determine Complete HIV Kit, 100 Tests</td>\n",
       "      <td>HIV 1/2, Determine Complete HIV Kit</td>\n",
       "      <td>Determine</td>\n",
       "      <td>0</td>\n",
       "      <td>Test kit</td>\n",
       "      <td>100</td>\n",
       "      <td>500</td>\n",
       "      <td>40,000.00</td>\n",
       "      <td>80.00</td>\n",
       "      <td>0.80</td>\n",
       "      <td>ABBVIE GmbH &amp; Co.KG Wiesbaden</td>\n",
       "      <td>Yes</td>\n",
       "      <td>171</td>\n",
       "      <td>1653.78</td>\n",
       "      <td>0.00</td>\n",
       "    </tr>\n",
       "    <tr>\n",
       "      <th>3</th>\n",
       "      <td>15</td>\n",
       "      <td>108-VN-T01</td>\n",
       "      <td>Pre-PQ Process</td>\n",
       "      <td>SCMS-78</td>\n",
       "      <td>ASN-50</td>\n",
       "      <td>Vietnam</td>\n",
       "      <td>PMO - US</td>\n",
       "      <td>Direct Drop</td>\n",
       "      <td>EXW</td>\n",
       "      <td>Air</td>\n",
       "      <td>Pre-PQ Process</td>\n",
       "      <td>Date Not Captured</td>\n",
       "      <td>1-Sep-06</td>\n",
       "      <td>1-Sep-06</td>\n",
       "      <td>1-Sep-06</td>\n",
       "      <td>ARV</td>\n",
       "      <td>Adult</td>\n",
       "      <td>SUN PHARMACEUTICAL INDUSTRIES LTD (RANBAXY LAB...</td>\n",
       "      <td>Lamivudine 150mg, tablets, 60 Tabs</td>\n",
       "      <td>Lamivudine</td>\n",
       "      <td>Generic</td>\n",
       "      <td>150mg</td>\n",
       "      <td>Tablet</td>\n",
       "      <td>60</td>\n",
       "      <td>31920</td>\n",
       "      <td>127,360.80</td>\n",
       "      <td>3.99</td>\n",
       "      <td>0.07</td>\n",
       "      <td>Ranbaxy, Paonta Shahib, India</td>\n",
       "      <td>Yes</td>\n",
       "      <td>1855</td>\n",
       "      <td>16007.06</td>\n",
       "      <td>0.00</td>\n",
       "    </tr>\n",
       "    <tr>\n",
       "      <th>4</th>\n",
       "      <td>16</td>\n",
       "      <td>108-VN-T01</td>\n",
       "      <td>Pre-PQ Process</td>\n",
       "      <td>SCMS-81</td>\n",
       "      <td>ASN-55</td>\n",
       "      <td>Vietnam</td>\n",
       "      <td>PMO - US</td>\n",
       "      <td>Direct Drop</td>\n",
       "      <td>EXW</td>\n",
       "      <td>Air</td>\n",
       "      <td>Pre-PQ Process</td>\n",
       "      <td>Date Not Captured</td>\n",
       "      <td>11-Aug-06</td>\n",
       "      <td>11-Aug-06</td>\n",
       "      <td>11-Aug-06</td>\n",
       "      <td>ARV</td>\n",
       "      <td>Adult</td>\n",
       "      <td>Aurobindo Pharma Limited</td>\n",
       "      <td>Stavudine 30mg, capsules, 60 Caps</td>\n",
       "      <td>Stavudine</td>\n",
       "      <td>Generic</td>\n",
       "      <td>30mg</td>\n",
       "      <td>Capsule</td>\n",
       "      <td>60</td>\n",
       "      <td>38000</td>\n",
       "      <td>121,600.00</td>\n",
       "      <td>3.20</td>\n",
       "      <td>0.05</td>\n",
       "      <td>Aurobindo Unit III, India</td>\n",
       "      <td>Yes</td>\n",
       "      <td>7590</td>\n",
       "      <td>45450.08</td>\n",
       "      <td>0.00</td>\n",
       "    </tr>\n",
       "    <tr>\n",
       "      <th>5</th>\n",
       "      <td>23</td>\n",
       "      <td>112-NG-T01</td>\n",
       "      <td>Pre-PQ Process</td>\n",
       "      <td>SCMS-87</td>\n",
       "      <td>ASN-57</td>\n",
       "      <td>Nigeria</td>\n",
       "      <td>PMO - US</td>\n",
       "      <td>Direct Drop</td>\n",
       "      <td>EXW</td>\n",
       "      <td>Air</td>\n",
       "      <td>Pre-PQ Process</td>\n",
       "      <td>Date Not Captured</td>\n",
       "      <td>28-Sep-06</td>\n",
       "      <td>28-Sep-06</td>\n",
       "      <td>28-Sep-06</td>\n",
       "      <td>ARV</td>\n",
       "      <td>Pediatric</td>\n",
       "      <td>Aurobindo Pharma Limited</td>\n",
       "      <td>Zidovudine 10mg/ml, oral solution, Bottle, 240 ml</td>\n",
       "      <td>Zidovudine</td>\n",
       "      <td>Generic</td>\n",
       "      <td>10mg/ml</td>\n",
       "      <td>Oral solution</td>\n",
       "      <td>240</td>\n",
       "      <td>416</td>\n",
       "      <td>2,225.60</td>\n",
       "      <td>5.35</td>\n",
       "      <td>0.02</td>\n",
       "      <td>Aurobindo Unit III, India</td>\n",
       "      <td>Yes</td>\n",
       "      <td>504</td>\n",
       "      <td>5920.42</td>\n",
       "      <td>0.00</td>\n",
       "    </tr>\n",
       "    <tr>\n",
       "      <th>6</th>\n",
       "      <td>44</td>\n",
       "      <td>110-ZM-T01</td>\n",
       "      <td>Pre-PQ Process</td>\n",
       "      <td>SCMS-139</td>\n",
       "      <td>ASN-130</td>\n",
       "      <td>Zambia</td>\n",
       "      <td>PMO - US</td>\n",
       "      <td>Direct Drop</td>\n",
       "      <td>DDU</td>\n",
       "      <td>Air</td>\n",
       "      <td>Pre-PQ Process</td>\n",
       "      <td>Date Not Captured</td>\n",
       "      <td>8-Jan-07</td>\n",
       "      <td>8-Jan-07</td>\n",
       "      <td>8-Jan-07</td>\n",
       "      <td>ARV</td>\n",
       "      <td>Pediatric</td>\n",
       "      <td>MERCK SHARP &amp; DOHME IDEA GMBH (FORMALLY MERCK ...</td>\n",
       "      <td>Efavirenz 200mg [Stocrin/Sustiva], capsule, 90...</td>\n",
       "      <td>Efavirenz</td>\n",
       "      <td>Stocrin/Sustiva</td>\n",
       "      <td>200mg</td>\n",
       "      <td>Capsule</td>\n",
       "      <td>90</td>\n",
       "      <td>135</td>\n",
       "      <td>4,374.00</td>\n",
       "      <td>32.40</td>\n",
       "      <td>0.36</td>\n",
       "      <td>MSD South Granville Australia</td>\n",
       "      <td>Yes</td>\n",
       "      <td>328</td>\n",
       "      <td>Freight Included in Commodity Cost</td>\n",
       "      <td>0.00</td>\n",
       "    </tr>\n",
       "    <tr>\n",
       "      <th>7</th>\n",
       "      <td>45</td>\n",
       "      <td>109-TZ-T01</td>\n",
       "      <td>Pre-PQ Process</td>\n",
       "      <td>SCMS-140</td>\n",
       "      <td>ASN-94</td>\n",
       "      <td>Tanzania</td>\n",
       "      <td>PMO - US</td>\n",
       "      <td>Direct Drop</td>\n",
       "      <td>EXW</td>\n",
       "      <td>Air</td>\n",
       "      <td>Pre-PQ Process</td>\n",
       "      <td>Date Not Captured</td>\n",
       "      <td>24-Nov-06</td>\n",
       "      <td>24-Nov-06</td>\n",
       "      <td>24-Nov-06</td>\n",
       "      <td>ARV</td>\n",
       "      <td>Adult</td>\n",
       "      <td>Aurobindo Pharma Limited</td>\n",
       "      <td>Nevirapine 200mg, tablets, 60 Tabs</td>\n",
       "      <td>Nevirapine</td>\n",
       "      <td>Generic</td>\n",
       "      <td>200mg</td>\n",
       "      <td>Tablet</td>\n",
       "      <td>60</td>\n",
       "      <td>16667</td>\n",
       "      <td>60,834.55</td>\n",
       "      <td>3.65</td>\n",
       "      <td>0.06</td>\n",
       "      <td>Aurobindo Unit III, India</td>\n",
       "      <td>Yes</td>\n",
       "      <td>1478</td>\n",
       "      <td>6212.41</td>\n",
       "      <td>0.00</td>\n",
       "    </tr>\n",
       "    <tr>\n",
       "      <th>8</th>\n",
       "      <td>46</td>\n",
       "      <td>112-NG-T01</td>\n",
       "      <td>Pre-PQ Process</td>\n",
       "      <td>SCMS-156</td>\n",
       "      <td>ASN-93</td>\n",
       "      <td>Nigeria</td>\n",
       "      <td>PMO - US</td>\n",
       "      <td>Direct Drop</td>\n",
       "      <td>EXW</td>\n",
       "      <td>Air</td>\n",
       "      <td>Pre-PQ Process</td>\n",
       "      <td>Date Not Captured</td>\n",
       "      <td>7-Dec-06</td>\n",
       "      <td>7-Dec-06</td>\n",
       "      <td>7-Dec-06</td>\n",
       "      <td>ARV</td>\n",
       "      <td>Adult</td>\n",
       "      <td>Aurobindo Pharma Limited</td>\n",
       "      <td>Stavudine 30mg, capsules, 60 Caps</td>\n",
       "      <td>Stavudine</td>\n",
       "      <td>Generic</td>\n",
       "      <td>30mg</td>\n",
       "      <td>Capsule</td>\n",
       "      <td>60</td>\n",
       "      <td>273</td>\n",
       "      <td>532.35</td>\n",
       "      <td>1.95</td>\n",
       "      <td>0.03</td>\n",
       "      <td>Aurobindo Unit III, India</td>\n",
       "      <td>No</td>\n",
       "      <td>See ASN-93 (ID#:1281)</td>\n",
       "      <td>See ASN-93 (ID#:1281)</td>\n",
       "      <td>0.00</td>\n",
       "    </tr>\n",
       "    <tr>\n",
       "      <th>9</th>\n",
       "      <td>47</td>\n",
       "      <td>110-ZM-T01</td>\n",
       "      <td>Pre-PQ Process</td>\n",
       "      <td>SCMS-165</td>\n",
       "      <td>ASN-199</td>\n",
       "      <td>Zambia</td>\n",
       "      <td>PMO - US</td>\n",
       "      <td>Direct Drop</td>\n",
       "      <td>CIP</td>\n",
       "      <td>Air</td>\n",
       "      <td>Pre-PQ Process</td>\n",
       "      <td>11/13/06</td>\n",
       "      <td>30-Jan-07</td>\n",
       "      <td>30-Jan-07</td>\n",
       "      <td>30-Jan-07</td>\n",
       "      <td>ARV</td>\n",
       "      <td>Adult</td>\n",
       "      <td>ABBVIE LOGISTICS (FORMERLY ABBOTT LOGISTICS BV)</td>\n",
       "      <td>Lopinavir/Ritonavir 200/50mg [Aluvia], tablets...</td>\n",
       "      <td>Lopinavir/Ritonavir</td>\n",
       "      <td>Aluvia</td>\n",
       "      <td>200/50mg</td>\n",
       "      <td>Tablet</td>\n",
       "      <td>120</td>\n",
       "      <td>2800</td>\n",
       "      <td>115,080.00</td>\n",
       "      <td>41.10</td>\n",
       "      <td>0.34</td>\n",
       "      <td>ABBVIE (Abbott) St. P'burg USA</td>\n",
       "      <td>Yes</td>\n",
       "      <td>643</td>\n",
       "      <td>Freight Included in Commodity Cost</td>\n",
       "      <td>0.00</td>\n",
       "    </tr>\n",
       "  </tbody>\n",
       "</table>\n",
       "</div>"
      ],
      "text/plain": [
       "   ID Project Code            PQ # PO / SO # ASN/DN #        Country  \\\n",
       "0   1   100-CI-T01  Pre-PQ Process    SCMS-4    ASN-8  Côte d'Ivoire   \n",
       "1   3   108-VN-T01  Pre-PQ Process   SCMS-13   ASN-85        Vietnam   \n",
       "2   4   100-CI-T01  Pre-PQ Process   SCMS-20   ASN-14  Côte d'Ivoire   \n",
       "3  15   108-VN-T01  Pre-PQ Process   SCMS-78   ASN-50        Vietnam   \n",
       "4  16   108-VN-T01  Pre-PQ Process   SCMS-81   ASN-55        Vietnam   \n",
       "5  23   112-NG-T01  Pre-PQ Process   SCMS-87   ASN-57        Nigeria   \n",
       "6  44   110-ZM-T01  Pre-PQ Process  SCMS-139  ASN-130         Zambia   \n",
       "7  45   109-TZ-T01  Pre-PQ Process  SCMS-140   ASN-94       Tanzania   \n",
       "8  46   112-NG-T01  Pre-PQ Process  SCMS-156   ASN-93        Nigeria   \n",
       "9  47   110-ZM-T01  Pre-PQ Process  SCMS-165  ASN-199         Zambia   \n",
       "\n",
       "  Managed By  Fulfill Via Vendor INCO Term Shipment Mode  \\\n",
       "0   PMO - US  Direct Drop              EXW           Air   \n",
       "1   PMO - US  Direct Drop              EXW           Air   \n",
       "2   PMO - US  Direct Drop              FCA           Air   \n",
       "3   PMO - US  Direct Drop              EXW           Air   \n",
       "4   PMO - US  Direct Drop              EXW           Air   \n",
       "5   PMO - US  Direct Drop              EXW           Air   \n",
       "6   PMO - US  Direct Drop              DDU           Air   \n",
       "7   PMO - US  Direct Drop              EXW           Air   \n",
       "8   PMO - US  Direct Drop              EXW           Air   \n",
       "9   PMO - US  Direct Drop              CIP           Air   \n",
       "\n",
       "  PQ First Sent to Client Date PO Sent to Vendor Date Scheduled Delivery Date  \\\n",
       "0               Pre-PQ Process      Date Not Captured                2-Jun-06   \n",
       "1               Pre-PQ Process      Date Not Captured               14-Nov-06   \n",
       "2               Pre-PQ Process      Date Not Captured               27-Aug-06   \n",
       "3               Pre-PQ Process      Date Not Captured                1-Sep-06   \n",
       "4               Pre-PQ Process      Date Not Captured               11-Aug-06   \n",
       "5               Pre-PQ Process      Date Not Captured               28-Sep-06   \n",
       "6               Pre-PQ Process      Date Not Captured                8-Jan-07   \n",
       "7               Pre-PQ Process      Date Not Captured               24-Nov-06   \n",
       "8               Pre-PQ Process      Date Not Captured                7-Dec-06   \n",
       "9               Pre-PQ Process               11/13/06               30-Jan-07   \n",
       "\n",
       "  Delivered to Client Date Delivery Recorded Date Product Group  \\\n",
       "0                 2-Jun-06               2-Jun-06          HRDT   \n",
       "1                14-Nov-06              14-Nov-06           ARV   \n",
       "2                27-Aug-06              27-Aug-06          HRDT   \n",
       "3                 1-Sep-06               1-Sep-06           ARV   \n",
       "4                11-Aug-06              11-Aug-06           ARV   \n",
       "5                28-Sep-06              28-Sep-06           ARV   \n",
       "6                 8-Jan-07               8-Jan-07           ARV   \n",
       "7                24-Nov-06              24-Nov-06           ARV   \n",
       "8                 7-Dec-06               7-Dec-06           ARV   \n",
       "9                30-Jan-07              30-Jan-07           ARV   \n",
       "\n",
       "  Sub Classification                                             Vendor  \\\n",
       "0           HIV test                        RANBAXY Fine Chemicals LTD.   \n",
       "1          Pediatric                           Aurobindo Pharma Limited   \n",
       "2           HIV test                               Abbott GmbH & Co. KG   \n",
       "3              Adult  SUN PHARMACEUTICAL INDUSTRIES LTD (RANBAXY LAB...   \n",
       "4              Adult                           Aurobindo Pharma Limited   \n",
       "5          Pediatric                           Aurobindo Pharma Limited   \n",
       "6          Pediatric  MERCK SHARP & DOHME IDEA GMBH (FORMALLY MERCK ...   \n",
       "7              Adult                           Aurobindo Pharma Limited   \n",
       "8              Adult                           Aurobindo Pharma Limited   \n",
       "9              Adult    ABBVIE LOGISTICS (FORMERLY ABBOTT LOGISTICS BV)   \n",
       "\n",
       "                                    Item Description  \\\n",
       "0  HIV, Reveal G3 Rapid HIV-1 Antibody Test, 30 T...   \n",
       "1  Nevirapine 10mg/ml, oral suspension, Bottle, 2...   \n",
       "2     HIV 1/2, Determine Complete HIV Kit, 100 Tests   \n",
       "3                 Lamivudine 150mg, tablets, 60 Tabs   \n",
       "4                  Stavudine 30mg, capsules, 60 Caps   \n",
       "5  Zidovudine 10mg/ml, oral solution, Bottle, 240 ml   \n",
       "6  Efavirenz 200mg [Stocrin/Sustiva], capsule, 90...   \n",
       "7                 Nevirapine 200mg, tablets, 60 Tabs   \n",
       "8                  Stavudine 30mg, capsules, 60 Caps   \n",
       "9  Lopinavir/Ritonavir 200/50mg [Aluvia], tablets...   \n",
       "\n",
       "                         Molecule/Test Type            Brand    Dosage  \\\n",
       "0  HIV, Reveal G3 Rapid HIV-1 Antibody Test           Reveal         0   \n",
       "1                                Nevirapine          Generic   10mg/ml   \n",
       "2       HIV 1/2, Determine Complete HIV Kit        Determine         0   \n",
       "3                                Lamivudine          Generic     150mg   \n",
       "4                                 Stavudine          Generic      30mg   \n",
       "5                                Zidovudine          Generic   10mg/ml   \n",
       "6                                 Efavirenz  Stocrin/Sustiva     200mg   \n",
       "7                                Nevirapine          Generic     200mg   \n",
       "8                                 Stavudine          Generic      30mg   \n",
       "9                       Lopinavir/Ritonavir           Aluvia  200/50mg   \n",
       "\n",
       "       Dosage Form  Unit of Measure (Per Pack)  Line Item Quantity  \\\n",
       "0         Test kit                          30                  19   \n",
       "1  Oral suspension                         240                1000   \n",
       "2         Test kit                         100                 500   \n",
       "3           Tablet                          60               31920   \n",
       "4          Capsule                          60               38000   \n",
       "5    Oral solution                         240                 416   \n",
       "6          Capsule                          90                 135   \n",
       "7           Tablet                          60               16667   \n",
       "8          Capsule                          60                 273   \n",
       "9           Tablet                         120                2800   \n",
       "\n",
       "       Line Item Value           Pack Price           Unit Price  \\\n",
       "0               551.00                29.00                 0.97   \n",
       "1             6,200.00                 6.20                 0.03   \n",
       "2            40,000.00                80.00                 0.80   \n",
       "3           127,360.80                 3.99                 0.07   \n",
       "4           121,600.00                 3.20                 0.05   \n",
       "5             2,225.60                 5.35                 0.02   \n",
       "6             4,374.00                32.40                 0.36   \n",
       "7            60,834.55                 3.65                 0.06   \n",
       "8               532.35                 1.95                 0.03   \n",
       "9           115,080.00                41.10                 0.34   \n",
       "\n",
       "               Manufacturing Site First Line Designation  \\\n",
       "0      Ranbaxy Fine Chemicals LTD                    Yes   \n",
       "1       Aurobindo Unit III, India                    Yes   \n",
       "2   ABBVIE GmbH & Co.KG Wiesbaden                    Yes   \n",
       "3   Ranbaxy, Paonta Shahib, India                    Yes   \n",
       "4       Aurobindo Unit III, India                    Yes   \n",
       "5       Aurobindo Unit III, India                    Yes   \n",
       "6   MSD South Granville Australia                    Yes   \n",
       "7       Aurobindo Unit III, India                    Yes   \n",
       "8       Aurobindo Unit III, India                     No   \n",
       "9  ABBVIE (Abbott) St. P'burg USA                    Yes   \n",
       "\n",
       "      Weight (Kilograms)                  Freight Cost (USD)  \\\n",
       "0                     13                              780.34   \n",
       "1                    358                              4521.5   \n",
       "2                    171                             1653.78   \n",
       "3                   1855                            16007.06   \n",
       "4                   7590                            45450.08   \n",
       "5                    504                             5920.42   \n",
       "6                    328  Freight Included in Commodity Cost   \n",
       "7                   1478                             6212.41   \n",
       "8  See ASN-93 (ID#:1281)               See ASN-93 (ID#:1281)   \n",
       "9                    643  Freight Included in Commodity Cost   \n",
       "\n",
       "   Line Item Insurance (USD)  \n",
       "0                       0.00  \n",
       "1                       0.00  \n",
       "2                       0.00  \n",
       "3                       0.00  \n",
       "4                       0.00  \n",
       "5                       0.00  \n",
       "6                       0.00  \n",
       "7                       0.00  \n",
       "8                       0.00  \n",
       "9                       0.00  "
      ]
     },
     "execution_count": 5,
     "metadata": {},
     "output_type": "execute_result"
    }
   ],
   "source": [
    "DataSet.head(10)"
   ]
  },
  {
   "cell_type": "code",
   "execution_count": 6,
   "metadata": {
    "execution": {
     "iopub.execute_input": "2020-11-20T17:19:34.505063Z",
     "iopub.status.busy": "2020-11-20T17:19:34.463670Z",
     "iopub.status.idle": "2020-11-20T17:19:34.510915Z",
     "shell.execute_reply": "2020-11-20T17:19:34.510192Z"
    },
    "papermill": {
     "duration": 0.078963,
     "end_time": "2020-11-20T17:19:34.511084",
     "exception": false,
     "start_time": "2020-11-20T17:19:34.432121",
     "status": "completed"
    },
    "tags": []
   },
   "outputs": [
    {
     "data": {
      "text/html": [
       "<div>\n",
       "<style scoped>\n",
       "    .dataframe tbody tr th:only-of-type {\n",
       "        vertical-align: middle;\n",
       "    }\n",
       "\n",
       "    .dataframe tbody tr th {\n",
       "        vertical-align: top;\n",
       "    }\n",
       "\n",
       "    .dataframe thead th {\n",
       "        text-align: right;\n",
       "    }\n",
       "</style>\n",
       "<table border=\"1\" class=\"dataframe\">\n",
       "  <thead>\n",
       "    <tr style=\"text-align: right;\">\n",
       "      <th></th>\n",
       "      <th>ID</th>\n",
       "      <th>Project Code</th>\n",
       "      <th>PQ #</th>\n",
       "      <th>PO / SO #</th>\n",
       "      <th>ASN/DN #</th>\n",
       "      <th>Country</th>\n",
       "      <th>Managed By</th>\n",
       "      <th>Fulfill Via</th>\n",
       "      <th>Vendor INCO Term</th>\n",
       "      <th>Shipment Mode</th>\n",
       "      <th>PQ First Sent to Client Date</th>\n",
       "      <th>PO Sent to Vendor Date</th>\n",
       "      <th>Scheduled Delivery Date</th>\n",
       "      <th>Delivered to Client Date</th>\n",
       "      <th>Delivery Recorded Date</th>\n",
       "      <th>Product Group</th>\n",
       "      <th>Sub Classification</th>\n",
       "      <th>Vendor</th>\n",
       "      <th>Item Description</th>\n",
       "      <th>Molecule/Test Type</th>\n",
       "      <th>Brand</th>\n",
       "      <th>Dosage</th>\n",
       "      <th>Dosage Form</th>\n",
       "      <th>Unit of Measure (Per Pack)</th>\n",
       "      <th>Line Item Quantity</th>\n",
       "      <th>Line Item Value</th>\n",
       "      <th>Pack Price</th>\n",
       "      <th>Unit Price</th>\n",
       "      <th>Manufacturing Site</th>\n",
       "      <th>First Line Designation</th>\n",
       "      <th>Weight (Kilograms)</th>\n",
       "      <th>Freight Cost (USD)</th>\n",
       "      <th>Line Item Insurance (USD)</th>\n",
       "    </tr>\n",
       "  </thead>\n",
       "  <tbody>\n",
       "    <tr>\n",
       "      <th>10314</th>\n",
       "      <td>86813</td>\n",
       "      <td>151-NG-T30</td>\n",
       "      <td>FPQ-14989</td>\n",
       "      <td>SO-51422</td>\n",
       "      <td>DN-4274</td>\n",
       "      <td>Nigeria</td>\n",
       "      <td>PMO - US</td>\n",
       "      <td>From RDC</td>\n",
       "      <td>N/A - From RDC</td>\n",
       "      <td>Air Charter</td>\n",
       "      <td>9/19/14</td>\n",
       "      <td>N/A - From RDC</td>\n",
       "      <td>30-Jun-15</td>\n",
       "      <td>15-May-15</td>\n",
       "      <td>22-May-15</td>\n",
       "      <td>ARV</td>\n",
       "      <td>Pediatric</td>\n",
       "      <td>SCMS from RDC</td>\n",
       "      <td>Lamivudine/Nevirapine/Zidovudine 30/50/60mg, d...</td>\n",
       "      <td>Lamivudine/Nevirapine/Zidovudine</td>\n",
       "      <td>Generic</td>\n",
       "      <td>30/50/60mg</td>\n",
       "      <td>Chewable/dispersible tablet - FDC</td>\n",
       "      <td>60</td>\n",
       "      <td>10340</td>\n",
       "      <td>37,224.00</td>\n",
       "      <td>3.60</td>\n",
       "      <td>0.06</td>\n",
       "      <td>Mylan (formerly Matrix) Nashik</td>\n",
       "      <td>No</td>\n",
       "      <td>See DN-4274 (ID#:84472)</td>\n",
       "      <td>See DN-4274 (ID#:84472)</td>\n",
       "      <td>38.27</td>\n",
       "    </tr>\n",
       "    <tr>\n",
       "      <th>10315</th>\n",
       "      <td>86814</td>\n",
       "      <td>151-NG-T30</td>\n",
       "      <td>FPQ-14989</td>\n",
       "      <td>SO-51424</td>\n",
       "      <td>DN-4276</td>\n",
       "      <td>Nigeria</td>\n",
       "      <td>PMO - US</td>\n",
       "      <td>From RDC</td>\n",
       "      <td>N/A - From RDC</td>\n",
       "      <td>Air Charter</td>\n",
       "      <td>9/19/14</td>\n",
       "      <td>N/A - From RDC</td>\n",
       "      <td>30-Jun-15</td>\n",
       "      <td>15-May-15</td>\n",
       "      <td>22-May-15</td>\n",
       "      <td>ARV</td>\n",
       "      <td>Adult</td>\n",
       "      <td>SCMS from RDC</td>\n",
       "      <td>Lopinavir/Ritonavir 200/50mg [Aluvia], tablets...</td>\n",
       "      <td>Lopinavir/Ritonavir</td>\n",
       "      <td>Aluvia</td>\n",
       "      <td>200/50mg</td>\n",
       "      <td>Tablet</td>\n",
       "      <td>120</td>\n",
       "      <td>70000</td>\n",
       "      <td>1,304,800.00</td>\n",
       "      <td>18.64</td>\n",
       "      <td>0.16</td>\n",
       "      <td>ABBVIE Ludwigshafen Germany</td>\n",
       "      <td>Yes</td>\n",
       "      <td>15198</td>\n",
       "      <td>26180</td>\n",
       "      <td>1,341.33</td>\n",
       "    </tr>\n",
       "    <tr>\n",
       "      <th>10316</th>\n",
       "      <td>86815</td>\n",
       "      <td>151-NG-T30</td>\n",
       "      <td>FPQ-16313</td>\n",
       "      <td>SO-51420</td>\n",
       "      <td>DN-4279</td>\n",
       "      <td>Nigeria</td>\n",
       "      <td>PMO - US</td>\n",
       "      <td>From RDC</td>\n",
       "      <td>N/A - From RDC</td>\n",
       "      <td>Air Charter</td>\n",
       "      <td>5/4/15</td>\n",
       "      <td>N/A - From RDC</td>\n",
       "      <td>2-Jun-15</td>\n",
       "      <td>15-May-15</td>\n",
       "      <td>22-May-15</td>\n",
       "      <td>ARV</td>\n",
       "      <td>Adult</td>\n",
       "      <td>SCMS from RDC</td>\n",
       "      <td>Lamivudine/Zidovudine 150/300mg, tablets, 60 Tabs</td>\n",
       "      <td>Lamivudine/Zidovudine</td>\n",
       "      <td>Generic</td>\n",
       "      <td>150/300mg</td>\n",
       "      <td>Tablet - FDC</td>\n",
       "      <td>60</td>\n",
       "      <td>15000</td>\n",
       "      <td>97,800.00</td>\n",
       "      <td>6.52</td>\n",
       "      <td>0.11</td>\n",
       "      <td>Aurobindo Unit III, India</td>\n",
       "      <td>Yes</td>\n",
       "      <td>1547</td>\n",
       "      <td>3410</td>\n",
       "      <td>115.11</td>\n",
       "    </tr>\n",
       "    <tr>\n",
       "      <th>10317</th>\n",
       "      <td>86816</td>\n",
       "      <td>151-NG-T30</td>\n",
       "      <td>FPQ-16313</td>\n",
       "      <td>SO-51440</td>\n",
       "      <td>DN-4282</td>\n",
       "      <td>Nigeria</td>\n",
       "      <td>PMO - US</td>\n",
       "      <td>From RDC</td>\n",
       "      <td>N/A - From RDC</td>\n",
       "      <td>Air</td>\n",
       "      <td>5/4/15</td>\n",
       "      <td>N/A - From RDC</td>\n",
       "      <td>30-Jun-15</td>\n",
       "      <td>22-Jun-15</td>\n",
       "      <td>29-Jun-15</td>\n",
       "      <td>ARV</td>\n",
       "      <td>Adult</td>\n",
       "      <td>SCMS from RDC</td>\n",
       "      <td>Efavirenz 600mg, tablets, 30 Tabs</td>\n",
       "      <td>Efavirenz</td>\n",
       "      <td>Generic</td>\n",
       "      <td>600mg</td>\n",
       "      <td>Tablet</td>\n",
       "      <td>30</td>\n",
       "      <td>6724</td>\n",
       "      <td>20,978.88</td>\n",
       "      <td>3.12</td>\n",
       "      <td>0.10</td>\n",
       "      <td>Strides, Bangalore, India.</td>\n",
       "      <td>No</td>\n",
       "      <td>See DN-4282 (ID#:83919)</td>\n",
       "      <td>See DN-4282 (ID#:83919)</td>\n",
       "      <td>24.69</td>\n",
       "    </tr>\n",
       "    <tr>\n",
       "      <th>10318</th>\n",
       "      <td>86817</td>\n",
       "      <td>103-ZW-T30</td>\n",
       "      <td>FPQ-15197</td>\n",
       "      <td>SO-50020</td>\n",
       "      <td>DN-4307</td>\n",
       "      <td>Zimbabwe</td>\n",
       "      <td>PMO - US</td>\n",
       "      <td>From RDC</td>\n",
       "      <td>N/A - From RDC</td>\n",
       "      <td>Truck</td>\n",
       "      <td>10/16/14</td>\n",
       "      <td>N/A - From RDC</td>\n",
       "      <td>31-Jul-15</td>\n",
       "      <td>15-Jul-15</td>\n",
       "      <td>20-Jul-15</td>\n",
       "      <td>ARV</td>\n",
       "      <td>Pediatric</td>\n",
       "      <td>SCMS from RDC</td>\n",
       "      <td>Lamivudine/Nevirapine/Zidovudine 30/50/60mg, d...</td>\n",
       "      <td>Lamivudine/Nevirapine/Zidovudine</td>\n",
       "      <td>Generic</td>\n",
       "      <td>30/50/60mg</td>\n",
       "      <td>Chewable/dispersible tablet - FDC</td>\n",
       "      <td>60</td>\n",
       "      <td>205243</td>\n",
       "      <td>738,874.80</td>\n",
       "      <td>3.60</td>\n",
       "      <td>0.06</td>\n",
       "      <td>Cipla, Goa, India</td>\n",
       "      <td>No</td>\n",
       "      <td>See DN-4307 (ID#:83920)</td>\n",
       "      <td>See DN-4307 (ID#:83920)</td>\n",
       "      <td>869.66</td>\n",
       "    </tr>\n",
       "    <tr>\n",
       "      <th>10319</th>\n",
       "      <td>86818</td>\n",
       "      <td>103-ZW-T30</td>\n",
       "      <td>FPQ-15197</td>\n",
       "      <td>SO-50020</td>\n",
       "      <td>DN-4307</td>\n",
       "      <td>Zimbabwe</td>\n",
       "      <td>PMO - US</td>\n",
       "      <td>From RDC</td>\n",
       "      <td>N/A - From RDC</td>\n",
       "      <td>Truck</td>\n",
       "      <td>10/16/14</td>\n",
       "      <td>N/A - From RDC</td>\n",
       "      <td>31-Jul-15</td>\n",
       "      <td>15-Jul-15</td>\n",
       "      <td>20-Jul-15</td>\n",
       "      <td>ARV</td>\n",
       "      <td>Pediatric</td>\n",
       "      <td>SCMS from RDC</td>\n",
       "      <td>Lamivudine/Nevirapine/Zidovudine 30/50/60mg, d...</td>\n",
       "      <td>Lamivudine/Nevirapine/Zidovudine</td>\n",
       "      <td>Generic</td>\n",
       "      <td>30/50/60mg</td>\n",
       "      <td>Chewable/dispersible tablet - FDC</td>\n",
       "      <td>60</td>\n",
       "      <td>166571</td>\n",
       "      <td>599,655.60</td>\n",
       "      <td>3.60</td>\n",
       "      <td>0.06</td>\n",
       "      <td>Mylan,  H-12 &amp; H-13, India</td>\n",
       "      <td>No</td>\n",
       "      <td>See DN-4307 (ID#:83920)</td>\n",
       "      <td>See DN-4307 (ID#:83920)</td>\n",
       "      <td>705.79</td>\n",
       "    </tr>\n",
       "    <tr>\n",
       "      <th>10320</th>\n",
       "      <td>86819</td>\n",
       "      <td>104-CI-T30</td>\n",
       "      <td>FPQ-15259</td>\n",
       "      <td>SO-50102</td>\n",
       "      <td>DN-4313</td>\n",
       "      <td>Côte d'Ivoire</td>\n",
       "      <td>PMO - US</td>\n",
       "      <td>From RDC</td>\n",
       "      <td>N/A - From RDC</td>\n",
       "      <td>Truck</td>\n",
       "      <td>10/24/14</td>\n",
       "      <td>N/A - From RDC</td>\n",
       "      <td>31-Jul-15</td>\n",
       "      <td>6-Aug-15</td>\n",
       "      <td>7-Aug-15</td>\n",
       "      <td>ARV</td>\n",
       "      <td>Adult</td>\n",
       "      <td>SCMS from RDC</td>\n",
       "      <td>Lamivudine/Zidovudine 150/300mg, tablets, 60 Tabs</td>\n",
       "      <td>Lamivudine/Zidovudine</td>\n",
       "      <td>Generic</td>\n",
       "      <td>150/300mg</td>\n",
       "      <td>Tablet - FDC</td>\n",
       "      <td>60</td>\n",
       "      <td>21072</td>\n",
       "      <td>137,389.44</td>\n",
       "      <td>6.52</td>\n",
       "      <td>0.11</td>\n",
       "      <td>Hetero Unit III Hyderabad IN</td>\n",
       "      <td>No</td>\n",
       "      <td>See DN-4313 (ID#:83921)</td>\n",
       "      <td>See DN-4313 (ID#:83921)</td>\n",
       "      <td>161.71</td>\n",
       "    </tr>\n",
       "    <tr>\n",
       "      <th>10321</th>\n",
       "      <td>86821</td>\n",
       "      <td>110-ZM-T30</td>\n",
       "      <td>FPQ-14784</td>\n",
       "      <td>SO-49600</td>\n",
       "      <td>DN-4316</td>\n",
       "      <td>Zambia</td>\n",
       "      <td>PMO - US</td>\n",
       "      <td>From RDC</td>\n",
       "      <td>N/A - From RDC</td>\n",
       "      <td>Truck</td>\n",
       "      <td>8/12/14</td>\n",
       "      <td>N/A - From RDC</td>\n",
       "      <td>31-Aug-15</td>\n",
       "      <td>25-Aug-15</td>\n",
       "      <td>3-Sep-15</td>\n",
       "      <td>ARV</td>\n",
       "      <td>Adult</td>\n",
       "      <td>SCMS from RDC</td>\n",
       "      <td>Efavirenz/Lamivudine/Tenofovir Disoproxil Fuma...</td>\n",
       "      <td>Efavirenz/Lamivudine/Tenofovir Disoproxil Fuma...</td>\n",
       "      <td>Generic</td>\n",
       "      <td>600/300/300mg</td>\n",
       "      <td>Tablet - FDC</td>\n",
       "      <td>30</td>\n",
       "      <td>514526</td>\n",
       "      <td>5,140,114.74</td>\n",
       "      <td>9.99</td>\n",
       "      <td>0.33</td>\n",
       "      <td>Cipla Ltd A-42 MIDC Mahar. IN</td>\n",
       "      <td>No</td>\n",
       "      <td>Weight Captured Separately</td>\n",
       "      <td>Freight Included in Commodity Cost</td>\n",
       "      <td>5,284.04</td>\n",
       "    </tr>\n",
       "    <tr>\n",
       "      <th>10322</th>\n",
       "      <td>86822</td>\n",
       "      <td>200-ZW-T30</td>\n",
       "      <td>FPQ-16523</td>\n",
       "      <td>SO-51680</td>\n",
       "      <td>DN-4334</td>\n",
       "      <td>Zimbabwe</td>\n",
       "      <td>PMO - US</td>\n",
       "      <td>From RDC</td>\n",
       "      <td>N/A - From RDC</td>\n",
       "      <td>Truck</td>\n",
       "      <td>7/1/15</td>\n",
       "      <td>N/A - From RDC</td>\n",
       "      <td>9-Sep-15</td>\n",
       "      <td>4-Aug-15</td>\n",
       "      <td>11-Aug-15</td>\n",
       "      <td>ARV</td>\n",
       "      <td>Adult</td>\n",
       "      <td>SCMS from RDC</td>\n",
       "      <td>Lamivudine/Zidovudine 150/300mg, tablets, 60 Tabs</td>\n",
       "      <td>Lamivudine/Zidovudine</td>\n",
       "      <td>Generic</td>\n",
       "      <td>150/300mg</td>\n",
       "      <td>Tablet - FDC</td>\n",
       "      <td>60</td>\n",
       "      <td>17465</td>\n",
       "      <td>113,871.80</td>\n",
       "      <td>6.52</td>\n",
       "      <td>0.11</td>\n",
       "      <td>Mylan (formerly Matrix) Nashik</td>\n",
       "      <td>Yes</td>\n",
       "      <td>1392</td>\n",
       "      <td>Freight Included in Commodity Cost</td>\n",
       "      <td>134.03</td>\n",
       "    </tr>\n",
       "    <tr>\n",
       "      <th>10323</th>\n",
       "      <td>86823</td>\n",
       "      <td>103-ZW-T30</td>\n",
       "      <td>FPQ-15197</td>\n",
       "      <td>SO-50022</td>\n",
       "      <td>DN-4336</td>\n",
       "      <td>Zimbabwe</td>\n",
       "      <td>PMO - US</td>\n",
       "      <td>From RDC</td>\n",
       "      <td>N/A - From RDC</td>\n",
       "      <td>Truck</td>\n",
       "      <td>10/16/14</td>\n",
       "      <td>N/A - From RDC</td>\n",
       "      <td>31-Aug-15</td>\n",
       "      <td>4-Aug-15</td>\n",
       "      <td>11-Aug-15</td>\n",
       "      <td>ARV</td>\n",
       "      <td>Pediatric</td>\n",
       "      <td>SCMS from RDC</td>\n",
       "      <td>Lamivudine/Zidovudine 30/60mg, dispersible tab...</td>\n",
       "      <td>Lamivudine/Zidovudine</td>\n",
       "      <td>Generic</td>\n",
       "      <td>30/60mg</td>\n",
       "      <td>Chewable/dispersible tablet - FDC</td>\n",
       "      <td>60</td>\n",
       "      <td>36639</td>\n",
       "      <td>72,911.61</td>\n",
       "      <td>1.99</td>\n",
       "      <td>0.03</td>\n",
       "      <td>Cipla, Goa, India</td>\n",
       "      <td>No</td>\n",
       "      <td>Weight Captured Separately</td>\n",
       "      <td>Freight Included in Commodity Cost</td>\n",
       "      <td>85.82</td>\n",
       "    </tr>\n",
       "  </tbody>\n",
       "</table>\n",
       "</div>"
      ],
      "text/plain": [
       "          ID Project Code       PQ # PO / SO # ASN/DN #        Country  \\\n",
       "10314  86813   151-NG-T30  FPQ-14989  SO-51422  DN-4274        Nigeria   \n",
       "10315  86814   151-NG-T30  FPQ-14989  SO-51424  DN-4276        Nigeria   \n",
       "10316  86815   151-NG-T30  FPQ-16313  SO-51420  DN-4279        Nigeria   \n",
       "10317  86816   151-NG-T30  FPQ-16313  SO-51440  DN-4282        Nigeria   \n",
       "10318  86817   103-ZW-T30  FPQ-15197  SO-50020  DN-4307       Zimbabwe   \n",
       "10319  86818   103-ZW-T30  FPQ-15197  SO-50020  DN-4307       Zimbabwe   \n",
       "10320  86819   104-CI-T30  FPQ-15259  SO-50102  DN-4313  Côte d'Ivoire   \n",
       "10321  86821   110-ZM-T30  FPQ-14784  SO-49600  DN-4316         Zambia   \n",
       "10322  86822   200-ZW-T30  FPQ-16523  SO-51680  DN-4334       Zimbabwe   \n",
       "10323  86823   103-ZW-T30  FPQ-15197  SO-50022  DN-4336       Zimbabwe   \n",
       "\n",
       "      Managed By Fulfill Via Vendor INCO Term Shipment Mode  \\\n",
       "10314   PMO - US    From RDC   N/A - From RDC   Air Charter   \n",
       "10315   PMO - US    From RDC   N/A - From RDC   Air Charter   \n",
       "10316   PMO - US    From RDC   N/A - From RDC   Air Charter   \n",
       "10317   PMO - US    From RDC   N/A - From RDC           Air   \n",
       "10318   PMO - US    From RDC   N/A - From RDC         Truck   \n",
       "10319   PMO - US    From RDC   N/A - From RDC         Truck   \n",
       "10320   PMO - US    From RDC   N/A - From RDC         Truck   \n",
       "10321   PMO - US    From RDC   N/A - From RDC         Truck   \n",
       "10322   PMO - US    From RDC   N/A - From RDC         Truck   \n",
       "10323   PMO - US    From RDC   N/A - From RDC         Truck   \n",
       "\n",
       "      PQ First Sent to Client Date PO Sent to Vendor Date  \\\n",
       "10314                      9/19/14         N/A - From RDC   \n",
       "10315                      9/19/14         N/A - From RDC   \n",
       "10316                       5/4/15         N/A - From RDC   \n",
       "10317                       5/4/15         N/A - From RDC   \n",
       "10318                     10/16/14         N/A - From RDC   \n",
       "10319                     10/16/14         N/A - From RDC   \n",
       "10320                     10/24/14         N/A - From RDC   \n",
       "10321                      8/12/14         N/A - From RDC   \n",
       "10322                       7/1/15         N/A - From RDC   \n",
       "10323                     10/16/14         N/A - From RDC   \n",
       "\n",
       "      Scheduled Delivery Date Delivered to Client Date Delivery Recorded Date  \\\n",
       "10314               30-Jun-15                15-May-15              22-May-15   \n",
       "10315               30-Jun-15                15-May-15              22-May-15   \n",
       "10316                2-Jun-15                15-May-15              22-May-15   \n",
       "10317               30-Jun-15                22-Jun-15              29-Jun-15   \n",
       "10318               31-Jul-15                15-Jul-15              20-Jul-15   \n",
       "10319               31-Jul-15                15-Jul-15              20-Jul-15   \n",
       "10320               31-Jul-15                 6-Aug-15               7-Aug-15   \n",
       "10321               31-Aug-15                25-Aug-15               3-Sep-15   \n",
       "10322                9-Sep-15                 4-Aug-15              11-Aug-15   \n",
       "10323               31-Aug-15                 4-Aug-15              11-Aug-15   \n",
       "\n",
       "      Product Group Sub Classification         Vendor  \\\n",
       "10314           ARV          Pediatric  SCMS from RDC   \n",
       "10315           ARV              Adult  SCMS from RDC   \n",
       "10316           ARV              Adult  SCMS from RDC   \n",
       "10317           ARV              Adult  SCMS from RDC   \n",
       "10318           ARV          Pediatric  SCMS from RDC   \n",
       "10319           ARV          Pediatric  SCMS from RDC   \n",
       "10320           ARV              Adult  SCMS from RDC   \n",
       "10321           ARV              Adult  SCMS from RDC   \n",
       "10322           ARV              Adult  SCMS from RDC   \n",
       "10323           ARV          Pediatric  SCMS from RDC   \n",
       "\n",
       "                                        Item Description  \\\n",
       "10314  Lamivudine/Nevirapine/Zidovudine 30/50/60mg, d...   \n",
       "10315  Lopinavir/Ritonavir 200/50mg [Aluvia], tablets...   \n",
       "10316  Lamivudine/Zidovudine 150/300mg, tablets, 60 Tabs   \n",
       "10317                  Efavirenz 600mg, tablets, 30 Tabs   \n",
       "10318  Lamivudine/Nevirapine/Zidovudine 30/50/60mg, d...   \n",
       "10319  Lamivudine/Nevirapine/Zidovudine 30/50/60mg, d...   \n",
       "10320  Lamivudine/Zidovudine 150/300mg, tablets, 60 Tabs   \n",
       "10321  Efavirenz/Lamivudine/Tenofovir Disoproxil Fuma...   \n",
       "10322  Lamivudine/Zidovudine 150/300mg, tablets, 60 Tabs   \n",
       "10323  Lamivudine/Zidovudine 30/60mg, dispersible tab...   \n",
       "\n",
       "                                      Molecule/Test Type    Brand  \\\n",
       "10314                   Lamivudine/Nevirapine/Zidovudine  Generic   \n",
       "10315                                Lopinavir/Ritonavir   Aluvia   \n",
       "10316                              Lamivudine/Zidovudine  Generic   \n",
       "10317                                          Efavirenz  Generic   \n",
       "10318                   Lamivudine/Nevirapine/Zidovudine  Generic   \n",
       "10319                   Lamivudine/Nevirapine/Zidovudine  Generic   \n",
       "10320                              Lamivudine/Zidovudine  Generic   \n",
       "10321  Efavirenz/Lamivudine/Tenofovir Disoproxil Fuma...  Generic   \n",
       "10322                              Lamivudine/Zidovudine  Generic   \n",
       "10323                              Lamivudine/Zidovudine  Generic   \n",
       "\n",
       "              Dosage                        Dosage Form  \\\n",
       "10314     30/50/60mg  Chewable/dispersible tablet - FDC   \n",
       "10315       200/50mg                             Tablet   \n",
       "10316      150/300mg                       Tablet - FDC   \n",
       "10317          600mg                             Tablet   \n",
       "10318     30/50/60mg  Chewable/dispersible tablet - FDC   \n",
       "10319     30/50/60mg  Chewable/dispersible tablet - FDC   \n",
       "10320      150/300mg                       Tablet - FDC   \n",
       "10321  600/300/300mg                       Tablet - FDC   \n",
       "10322      150/300mg                       Tablet - FDC   \n",
       "10323        30/60mg  Chewable/dispersible tablet - FDC   \n",
       "\n",
       "       Unit of Measure (Per Pack)  Line Item Quantity      Line Item Value  \\\n",
       "10314                          60               10340            37,224.00   \n",
       "10315                         120               70000         1,304,800.00   \n",
       "10316                          60               15000            97,800.00   \n",
       "10317                          30                6724            20,978.88   \n",
       "10318                          60              205243           738,874.80   \n",
       "10319                          60              166571           599,655.60   \n",
       "10320                          60               21072           137,389.44   \n",
       "10321                          30              514526         5,140,114.74   \n",
       "10322                          60               17465           113,871.80   \n",
       "10323                          60               36639            72,911.61   \n",
       "\n",
       "                Pack Price           Unit Price  \\\n",
       "10314                 3.60                 0.06   \n",
       "10315                18.64                 0.16   \n",
       "10316                 6.52                 0.11   \n",
       "10317                 3.12                 0.10   \n",
       "10318                 3.60                 0.06   \n",
       "10319                 3.60                 0.06   \n",
       "10320                 6.52                 0.11   \n",
       "10321                 9.99                 0.33   \n",
       "10322                 6.52                 0.11   \n",
       "10323                 1.99                 0.03   \n",
       "\n",
       "                   Manufacturing Site First Line Designation  \\\n",
       "10314  Mylan (formerly Matrix) Nashik                     No   \n",
       "10315     ABBVIE Ludwigshafen Germany                    Yes   \n",
       "10316       Aurobindo Unit III, India                    Yes   \n",
       "10317      Strides, Bangalore, India.                     No   \n",
       "10318               Cipla, Goa, India                     No   \n",
       "10319      Mylan,  H-12 & H-13, India                     No   \n",
       "10320    Hetero Unit III Hyderabad IN                     No   \n",
       "10321   Cipla Ltd A-42 MIDC Mahar. IN                     No   \n",
       "10322  Mylan (formerly Matrix) Nashik                    Yes   \n",
       "10323               Cipla, Goa, India                     No   \n",
       "\n",
       "               Weight (Kilograms)                  Freight Cost (USD)  \\\n",
       "10314     See DN-4274 (ID#:84472)             See DN-4274 (ID#:84472)   \n",
       "10315                       15198                               26180   \n",
       "10316                        1547                                3410   \n",
       "10317     See DN-4282 (ID#:83919)             See DN-4282 (ID#:83919)   \n",
       "10318     See DN-4307 (ID#:83920)             See DN-4307 (ID#:83920)   \n",
       "10319     See DN-4307 (ID#:83920)             See DN-4307 (ID#:83920)   \n",
       "10320     See DN-4313 (ID#:83921)             See DN-4313 (ID#:83921)   \n",
       "10321  Weight Captured Separately  Freight Included in Commodity Cost   \n",
       "10322                        1392  Freight Included in Commodity Cost   \n",
       "10323  Weight Captured Separately  Freight Included in Commodity Cost   \n",
       "\n",
       "       Line Item Insurance (USD)  \n",
       "10314                      38.27  \n",
       "10315                   1,341.33  \n",
       "10316                     115.11  \n",
       "10317                      24.69  \n",
       "10318                     869.66  \n",
       "10319                     705.79  \n",
       "10320                     161.71  \n",
       "10321                   5,284.04  \n",
       "10322                     134.03  \n",
       "10323                      85.82  "
      ]
     },
     "execution_count": 6,
     "metadata": {},
     "output_type": "execute_result"
    }
   ],
   "source": [
    "DataSet.tail(10)"
   ]
  },
  {
   "cell_type": "markdown",
   "metadata": {
    "papermill": {
     "duration": 0.025361,
     "end_time": "2020-11-20T17:19:34.562909",
     "exception": false,
     "start_time": "2020-11-20T17:19:34.537548",
     "status": "completed"
    },
    "tags": []
   },
   "source": [
    "# Total 10 Country wise count with graph"
   ]
  },
  {
   "cell_type": "code",
   "execution_count": 7,
   "metadata": {
    "execution": {
     "iopub.execute_input": "2020-11-20T17:19:34.624998Z",
     "iopub.status.busy": "2020-11-20T17:19:34.624150Z",
     "iopub.status.idle": "2020-11-20T17:19:35.050086Z",
     "shell.execute_reply": "2020-11-20T17:19:35.049465Z"
    },
    "papermill": {
     "duration": 0.461378,
     "end_time": "2020-11-20T17:19:35.050233",
     "exception": false,
     "start_time": "2020-11-20T17:19:34.588855",
     "status": "completed"
    },
    "tags": []
   },
   "outputs": [
    {
     "name": "stdout",
     "output_type": "stream",
     "text": [
      "Top 10 Countries Wise Count \n",
      "\n",
      "South Africa     1406\n",
      "Nigeria          1194\n",
      "Côte d'Ivoire    1083\n",
      "Uganda            779\n",
      "Vietnam           688\n",
      "Zambia            683\n",
      "Haiti             655\n",
      "Mozambique        631\n",
      "Zimbabwe          538\n",
      "Tanzania          519\n",
      "Name: Country, dtype: int64\n"
     ]
    },
    {
     "data": {
      "text/plain": [
       "Text(0.5, 0, 'Country Name')"
      ]
     },
     "execution_count": 7,
     "metadata": {},
     "output_type": "execute_result"
    },
    {
     "data": {
      "image/png": "[encoded data removed]",
      "text/plain": [
       "<Figure size 1584x432 with 1 Axes>"
      ]
     },
     "metadata": {
      "needs_background": "light"
     },
     "output_type": "display_data"
    }
   ],
   "source": [
    "DataSet = DataSet.dropna()\n",
    "ItemCount = DataSet[\"Country\"].value_counts().nlargest(10)\n",
    "print(\"Top 10 Countries Wise Count \\n\")\n",
    "print(ItemCount)\n",
    "sn.set_context(\"talk\",font_scale=1)\n",
    "plt.figure(figsize=(22,6))\n",
    "sn.countplot(DataSet['Country'],order = DataSet['Country'].value_counts().nlargest(10).index)\n",
    "plt.title('Top 10 Countries Wise Count \\n')\n",
    "plt.ylabel('Total Count')\n",
    "plt.xlabel('Country Name')"
   ]
  },
  {
   "cell_type": "markdown",
   "metadata": {
    "papermill": {
     "duration": 0.027262,
     "end_time": "2020-11-20T17:19:35.105333",
     "exception": false,
     "start_time": "2020-11-20T17:19:35.078071",
     "status": "completed"
    },
    "tags": []
   },
   "source": [
    "# Total Pack Price for Top 15 Countries with graph"
   ]
  },
  {
   "cell_type": "code",
   "execution_count": 8,
   "metadata": {
    "execution": {
     "iopub.execute_input": "2020-11-20T17:19:35.171647Z",
     "iopub.status.busy": "2020-11-20T17:19:35.170817Z",
     "iopub.status.idle": "2020-11-20T17:19:35.461421Z",
     "shell.execute_reply": "2020-11-20T17:19:35.460624Z"
    },
    "papermill": {
     "duration": 0.328438,
     "end_time": "2020-11-20T17:19:35.461601",
     "exception": false,
     "start_time": "2020-11-20T17:19:35.133163",
     "status": "completed"
    },
    "tags": []
   },
   "outputs": [
    {
     "name": "stdout",
     "output_type": "stream",
     "text": [
      "Total Pack Price for Top 15 Countries\n",
      "\n",
      "Country\n",
      "Nigeria                    25,620.72\n",
      "South Africa               24,318.90\n",
      "Côte d'Ivoire              22,882.35\n",
      "Haiti                      19,521.30\n",
      "Uganda                     15,664.08\n",
      "Mozambique                 14,092.40\n",
      "Vietnam                    11,963.78\n",
      "Zambia                     11,889.67\n",
      "Tanzania                   11,047.72\n",
      "Rwanda                      7,724.29\n",
      "Botswana                    7,052.54\n",
      "Zimbabwe                    6,563.56\n",
      "Kenya                       6,349.14\n",
      "Congo, DRC                  6,032.41\n",
      "Guyana                      5,659.35\n",
      "Name: Pack Price, dtype: float64\n"
     ]
    },
    {
     "data": {
      "text/plain": [
       "Text(0.5, 0, 'Country Name')"
      ]
     },
     "execution_count": 8,
     "metadata": {},
     "output_type": "execute_result"
    },
    {
     "data": {
      "image/png": "[encoded data removed]",
      "text/plain": [
       "<Figure size 1584x432 with 1 Axes>"
      ]
     },
     "metadata": {
      "needs_background": "light"
     },
     "output_type": "display_data"
    }
   ],
   "source": [
    "TotalPrice = DataSet.groupby(['Country'])['Pack Price'].sum().nlargest(15)\n",
    "print(\"Total Pack Price for Top 15 Countries\\n\")\n",
    "print(TotalPrice)\n",
    "plt.figure(figsize=(22,6))\n",
    "GraphData=DataSet.groupby(['Country'])['Pack Price'].sum().nlargest(15)\n",
    "GraphData.plot(kind='bar')\n",
    "plt.ylabel('Total Pack Price')\n",
    "plt.xlabel('Country Name')"
   ]
  },
  {
   "cell_type": "markdown",
   "metadata": {
    "papermill": {
     "duration": 0.030902,
     "end_time": "2020-11-20T17:19:35.524421",
     "exception": false,
     "start_time": "2020-11-20T17:19:35.493519",
     "status": "completed"
    },
    "tags": []
   },
   "source": [
    "# First Line Designation Wise Count"
   ]
  },
  {
   "cell_type": "code",
   "execution_count": 9,
   "metadata": {
    "execution": {
     "iopub.execute_input": "2020-11-20T17:19:35.605255Z",
     "iopub.status.busy": "2020-11-20T17:19:35.604471Z",
     "iopub.status.idle": "2020-11-20T17:19:35.884138Z",
     "shell.execute_reply": "2020-11-20T17:19:35.883359Z"
    },
    "papermill": {
     "duration": 0.326744,
     "end_time": "2020-11-20T17:19:35.884272",
     "exception": false,
     "start_time": "2020-11-20T17:19:35.557528",
     "status": "completed"
    },
    "tags": []
   },
   "outputs": [
    {
     "data": {
      "text/plain": [
       "Text(0.5, 0, 'First Line Designation')"
      ]
     },
     "execution_count": 9,
     "metadata": {},
     "output_type": "execute_result"
    },
    {
     "data": {
      "image/png": "[encoded data removed]",
      "text/plain": [
       "<Figure size 360x432 with 1 Axes>"
      ]
     },
     "metadata": {
      "needs_background": "light"
     },
     "output_type": "display_data"
    }
   ],
   "source": [
    "sn.set_context(\"talk\",font_scale=1)\n",
    "plt.figure(figsize=(5,6))\n",
    "sn.countplot(DataSet['First Line Designation'],order = DataSet['First Line Designation'].value_counts().nlargest(10).index)\n",
    "plt.title('First Line Designation Wise Count \\n')\n",
    "plt.ylabel('Total Count')\n",
    "plt.xlabel('First Line Designation')"
   ]
  },
  {
   "cell_type": "markdown",
   "metadata": {
    "papermill": {
     "duration": 0.03118,
     "end_time": "2020-11-20T17:19:35.947315",
     "exception": false,
     "start_time": "2020-11-20T17:19:35.916135",
     "status": "completed"
    },
    "tags": []
   },
   "source": [
    "# Shipment Mode percentage wise Pie Chart"
   ]
  },
  {
   "cell_type": "code",
   "execution_count": 10,
   "metadata": {
    "execution": {
     "iopub.execute_input": "2020-11-20T17:19:36.028824Z",
     "iopub.status.busy": "2020-11-20T17:19:36.027913Z",
     "iopub.status.idle": "2020-11-20T17:19:37.048862Z",
     "shell.execute_reply": "2020-11-20T17:19:37.049510Z"
    },
    "papermill": {
     "duration": 1.069263,
     "end_time": "2020-11-20T17:19:37.049693",
     "exception": false,
     "start_time": "2020-11-20T17:19:35.980430",
     "status": "completed"
    },
    "tags": []
   },
   "outputs": [
    {
     "data": {
      "application/vnd.plotly.v1+json": {
       "config": {
        "linkText": "Export to plot.ly",
        "plotlyServerURL": "https://plot.ly",
        "showLink": false
       },
       "data": [
        {
         "labels": [
          "Air",
          "Truck",
          "Air Charter",
          "Ocean",
          0
         ],
         "type": "pie",
         "values": [
          59.21154591243704,
          27.411855869817902,
          6.296009298721426,
          3.5935683843471526,
          3.487020534676482
         ]
        }
       ],
       "layout": {
        "template": {
         "data": {
          "bar": [
           {
            "error_x": {
             "color": "#2a3f5f"
            },
            "error_y": {
             "color": "#2a3f5f"
            },
            "marker": {
             "line": {
              "color": "#E5ECF6",
              "width": 0.5
             }
            },
            "type": "bar"
           }
          ],
          "barpolar": [
           {
            "marker": {
             "line": {
              "color": "#E5ECF6",
              "width": 0.5
             }
            },
            "type": "barpolar"
           }
          ],
          "carpet": [
           {
            "aaxis": {
             "endlinecolor": "#2a3f5f",
             "gridcolor": "white",
             "linecolor": "white",
             "minorgridcolor": "white",
             "startlinecolor": "#2a3f5f"
            },
            "baxis": {
             "endlinecolor": "#2a3f5f",
             "gridcolor": "white",
             "linecolor": "white",
             "minorgridcolor": "white",
             "startlinecolor": "#2a3f5f"
            },
            "type": "carpet"
           }
          ],
          "choropleth": [
           {
            "colorbar": {
             "outlinewidth": 0,
             "ticks": ""
            },
            "type": "choropleth"
           }
          ],
          "contour": [
           {
            "colorbar": {
             "outlinewidth": 0,
             "ticks": ""
            },
            "colorscale": [
             [
              0.0,
              "#0d0887"
             ],
             [
              0.1111111111111111,
              "#46039f"
             ],
             [
              0.2222222222222222,
              "#7201a8"
             ],
             [
              0.3333333333333333,
              "#9c179e"
             ],
             [
              0.4444444444444444,
              "#bd3786"
             ],
             [
              0.5555555555555556,
              "#d8576b"
             ],
             [
              0.6666666666666666,
              "#ed7953"
             ],
             [
              0.7777777777777778,
              "#fb9f3a"
             ],
             [
              0.8888888888888888,
              "#fdca26"
             ],
             [
              1.0,
              "#f0f921"
             ]
            ],
            "type": "contour"
           }
          ],
          "contourcarpet": [
           {
            "colorbar": {
             "outlinewidth": 0,
             "ticks": ""
            },
            "type": "contourcarpet"
           }
          ],
          "heatmap": [
           {
            "colorbar": {
             "outlinewidth": 0,
             "ticks": ""
            },
            "colorscale": [
             [
              0.0,
              "#0d0887"
             ],
             [
              0.1111111111111111,
              "#46039f"
             ],
             [
              0.2222222222222222,
              "#7201a8"
             ],
             [
              0.3333333333333333,
              "#9c179e"
             ],
             [
              0.4444444444444444,
              "#bd3786"
             ],
             [
              0.5555555555555556,
              "#d8576b"
             ],
             [
              0.6666666666666666,
              "#ed7953"
             ],
             [
              0.7777777777777778,
              "#fb9f3a"
             ],
             [
              0.8888888888888888,
              "#fdca26"
             ],
             [
              1.0,
              "#f0f921"
             ]
            ],
            "type": "heatmap"
           }
          ],
          "heatmapgl": [
           {
            "colorbar": {
             "outlinewidth": 0,
             "ticks": ""
            },
            "colorscale": [
             [
              0.0,
              "#0d0887"
             ],
             [
              0.1111111111111111,
              "#46039f"
             ],
             [
              0.2222222222222222,
              "#7201a8"
             ],
             [
              0.3333333333333333,
              "#9c179e"
             ],
             [
              0.4444444444444444,
              "#bd3786"
             ],
             [
              0.5555555555555556,
              "#d8576b"
             ],
             [
              0.6666666666666666,
              "#ed7953"
             ],
             [
              0.7777777777777778,
              "#fb9f3a"
             ],
             [
              0.8888888888888888,
              "#fdca26"
             ],
             [
              1.0,
              "#f0f921"
             ]
            ],
            "type": "heatmapgl"
           }
          ],
          "histogram": [
           {
            "marker": {
             "colorbar": {
              "outlinewidth": 0,
              "ticks": ""
             }
            },
            "type": "histogram"
           }
          ],
          "histogram2d": [
           {
            "colorbar": {
             "outlinewidth": 0,
             "ticks": ""
            },
            "colorscale": [
             [
              0.0,
              "#0d0887"
             ],
             [
              0.1111111111111111,
              "#46039f"
             ],
             [
              0.2222222222222222,
              "#7201a8"
             ],
             [
              0.3333333333333333,
              "#9c179e"
             ],
             [
              0.4444444444444444,
              "#bd3786"
             ],
             [
              0.5555555555555556,
              "#d8576b"
             ],
             [
              0.6666666666666666,
              "#ed7953"
             ],
             [
              0.7777777777777778,
              "#fb9f3a"
             ],
             [
              0.8888888888888888,
              "#fdca26"
             ],
             [
              1.0,
              "#f0f921"
             ]
            ],
            "type": "histogram2d"
           }
          ],
          "histogram2dcontour": [
           {
            "colorbar": {
             "outlinewidth": 0,
             "ticks": ""
            },
            "colorscale": [
             [
              0.0,
              "#0d0887"
             ],
             [
              0.1111111111111111,
              "#46039f"
             ],
             [
              0.2222222222222222,
              "#7201a8"
             ],
             [
              0.3333333333333333,
              "#9c179e"
             ],
             [
              0.4444444444444444,
              "#bd3786"
             ],
             [
              0.5555555555555556,
              "#d8576b"
             ],
             [
              0.6666666666666666,
              "#ed7953"
             ],
             [
              0.7777777777777778,
              "#fb9f3a"
             ],
             [
              0.8888888888888888,
              "#fdca26"
             ],
             [
              1.0,
              "#f0f921"
             ]
            ],
            "type": "histogram2dcontour"
           }
          ],
          "mesh3d": [
           {
            "colorbar": {
             "outlinewidth": 0,
             "ticks": ""
            },
            "type": "mesh3d"
           }
          ],
          "parcoords": [
           {
            "line": {
             "colorbar": {
              "outlinewidth": 0,
              "ticks": ""
             }
            },
            "type": "parcoords"
           }
          ],
          "pie": [
           {
            "automargin": true,
            "type": "pie"
           }
          ],
          "scatter": [
           {
            "marker": {
             "colorbar": {
              "outlinewidth": 0,
              "ticks": ""
             }
            },
            "type": "scatter"
           }
          ],
          "scatter3d": [
           {
            "line": {
             "colorbar": {
              "outlinewidth": 0,
              "ticks": ""
             }
            },
            "marker": {
             "colorbar": {
              "outlinewidth": 0,
              "ticks": ""
             }
            },
            "type": "scatter3d"
           }
          ],
          "scattercarpet": [
           {
            "marker": {
             "colorbar": {
              "outlinewidth": 0,
              "ticks": ""
             }
            },
            "type": "scattercarpet"
           }
          ],
          "scattergeo": [
           {
            "marker": {
             "colorbar": {
              "outlinewidth": 0,
              "ticks": ""
             }
            },
            "type": "scattergeo"
           }
          ],
          "scattergl": [
           {
            "marker": {
             "colorbar": {
              "outlinewidth": 0,
              "ticks": ""
             }
            },
            "type": "scattergl"
           }
          ],
          "scattermapbox": [
           {
            "marker": {
             "colorbar": {
              "outlinewidth": 0,
              "ticks": ""
             }
            },
            "type": "scattermapbox"
           }
          ],
          "scatterpolar": [
           {
            "marker": {
             "colorbar": {
              "outlinewidth": 0,
              "ticks": ""
             }
            },
            "type": "scatterpolar"
           }
          ],
          "scatterpolargl": [
           {
            "marker": {
             "colorbar": {
              "outlinewidth": 0,
              "ticks": ""
             }
            },
            "type": "scatterpolargl"
           }
          ],
          "scatterternary": [
           {
            "marker": {
             "colorbar": {
              "outlinewidth": 0,
              "ticks": ""
             }
            },
            "type": "scatterternary"
           }
          ],
          "surface": [
           {
            "colorbar": {
             "outlinewidth": 0,
             "ticks": ""
            },
            "colorscale": [
             [
              0.0,
              "#0d0887"
             ],
             [
              0.1111111111111111,
              "#46039f"
             ],
             [
              0.2222222222222222,
              "#7201a8"
             ],
             [
              0.3333333333333333,
              "#9c179e"
             ],
             [
              0.4444444444444444,
              "#bd3786"
             ],
             [
              0.5555555555555556,
              "#d8576b"
             ],
             [
              0.6666666666666666,
              "#ed7953"
             ],
             [
              0.7777777777777778,
              "#fb9f3a"
             ],
             [
              0.8888888888888888,
              "#fdca26"
             ],
             [
              1.0,
              "#f0f921"
             ]
            ],
            "type": "surface"
           }
          ],
          "table": [
           {
            "cells": {
             "fill": {
              "color": "#EBF0F8"
             },
             "line": {
              "color": "white"
             }
            },
            "header": {
             "fill": {
              "color": "#C8D4E3"
             },
             "line": {
              "color": "white"
             }
            },
            "type": "table"
           }
          ]
         },
         "layout": {
          "annotationdefaults": {
           "arrowcolor": "#2a3f5f",
           "arrowhead": 0,
           "arrowwidth": 1
          },
          "coloraxis": {
           "colorbar": {
            "outlinewidth": 0,
            "ticks": ""
           }
          },
          "colorscale": {
           "diverging": [
            [
             0,
             "#8e0152"
            ],
            [
             0.1,
             "#c51b7d"
            ],
            [
             0.2,
             "#de77ae"
            ],
            [
             0.3,
             "#f1b6da"
            ],
            [
             0.4,
             "#fde0ef"
            ],
            [
             0.5,
             "#f7f7f7"
            ],
            [
             0.6,
             "#e6f5d0"
            ],
            [
             0.7,
             "#b8e186"
            ],
            [
             0.8,
             "#7fbc41"
            ],
            [
             0.9,
             "#4d9221"
            ],
            [
             1,
             "#276419"
            ]
           ],
           "sequential": [
            [
             0.0,
             "#0d0887"
            ],
            [
             0.1111111111111111,
             "#46039f"
            ],
            [
             0.2222222222222222,
             "#7201a8"
            ],
            [
             0.3333333333333333,
             "#9c179e"
            ],
            [
             0.4444444444444444,
             "#bd3786"
            ],
            [
             0.5555555555555556,
             "#d8576b"
            ],
            [
             0.6666666666666666,
             "#ed7953"
            ],
            [
             0.7777777777777778,
             "#fb9f3a"
            ],
            [
             0.8888888888888888,
             "#fdca26"
            ],
            [
             1.0,
             "#f0f921"
            ]
           ],
           "sequentialminus": [
            [
             0.0,
             "#0d0887"
            ],
            [
             0.1111111111111111,
             "#46039f"
            ],
            [
             0.2222222222222222,
             "#7201a8"
            ],
            [
             0.3333333333333333,
             "#9c179e"
            ],
            [
             0.4444444444444444,
             "#bd3786"
            ],
            [
             0.5555555555555556,
             "#d8576b"
            ],
            [
             0.6666666666666666,
             "#ed7953"
            ],
            [
             0.7777777777777778,
             "#fb9f3a"
            ],
            [
             0.8888888888888888,
             "#fdca26"
            ],
            [
             1.0,
             "#f0f921"
            ]
           ]
          },
          "colorway": [
           "#636efa",
           "#EF553B",
           "#00cc96",
           "#ab63fa",
           "#FFA15A",
           "#19d3f3",
           "#FF6692",
           "#B6E880",
           "#FF97FF",
           "#FECB52"
          ],
          "font": {
           "color": "#2a3f5f"
          },
          "geo": {
           "bgcolor": "white",
           "lakecolor": "white",
           "landcolor": "#E5ECF6",
           "showlakes": true,
           "showland": true,
           "subunitcolor": "white"
          },
          "hoverlabel": {
           "align": "left"
          },
          "hovermode": "closest",
          "mapbox": {
           "style": "light"
          },
          "paper_bgcolor": "white",
          "plot_bgcolor": "#E5ECF6",
          "polar": {
           "angularaxis": {
            "gridcolor": "white",
            "linecolor": "white",
            "ticks": ""
           },
           "bgcolor": "#E5ECF6",
           "radialaxis": {
            "gridcolor": "white",
            "linecolor": "white",
            "ticks": ""
           }
          },
          "scene": {
           "xaxis": {
            "backgroundcolor": "#E5ECF6",
            "gridcolor": "white",
            "gridwidth": 2,
            "linecolor": "white",
            "showbackground": true,
            "ticks": "",
            "zerolinecolor": "white"
           },
           "yaxis": {
            "backgroundcolor": "#E5ECF6",
            "gridcolor": "white",
            "gridwidth": 2,
            "linecolor": "white",
            "showbackground": true,
            "ticks": "",
            "zerolinecolor": "white"
           },
           "zaxis": {
            "backgroundcolor": "#E5ECF6",
            "gridcolor": "white",
            "gridwidth": 2,
            "linecolor": "white",
            "showbackground": true,
            "ticks": "",
            "zerolinecolor": "white"
           }
          },
          "shapedefaults": {
           "line": {
            "color": "#2a3f5f"
           }
          },
          "ternary": {
           "aaxis": {
            "gridcolor": "white",
            "linecolor": "white",
            "ticks": ""
           },
           "baxis": {
            "gridcolor": "white",
            "linecolor": "white",
            "ticks": ""
           },
           "bgcolor": "#E5ECF6",
           "caxis": {
            "gridcolor": "white",
            "linecolor": "white",
            "ticks": ""
           }
          },
          "title": {
           "x": 0.05
          },
          "xaxis": {
           "automargin": true,
           "gridcolor": "white",
           "linecolor": "white",
           "ticks": "",
           "title": {
            "standoff": 15
           },
           "zerolinecolor": "white",
           "zerolinewidth": 2
          },
          "yaxis": {
           "automargin": true,
           "gridcolor": "white",
           "linecolor": "white",
           "ticks": "",
           "title": {
            "standoff": 15
           },
           "zerolinecolor": "white",
           "zerolinewidth": 2
          }
         }
        },
        "title": {
         "text": "Shipment Mode"
        }
       }
      },
      "text/html": [
       "<div>                            <div id=\"aaa070e1-05e9-4341-81f7-fb2afbf16388\" class=\"plotly-graph-div\" style=\"height:525px; width:100%;\"></div>            <script type=\"text/javascript\">                require([\"plotly\"], function(Plotly) {                    window.PLOTLYENV=window.PLOTLYENV || {};                                    if (document.getElementById(\"aaa070e1-05e9-4341-81f7-fb2afbf16388\")) {                    Plotly.newPlot(                        \"aaa070e1-05e9-4341-81f7-fb2afbf16388\",                        [{\"labels\": [\"Air\", \"Truck\", \"Air Charter\", \"Ocean\", 0], \"type\": \"pie\", \"values\": [59.21154591243704, 27.411855869817902, 6.296009298721426, 3.5935683843471526, 3.487020534676482]}],                        {\"template\": {\"data\": {\"bar\": [{\"error_x\": {\"color\": \"#2a3f5f\"}, \"error_y\": {\"color\": \"#2a3f5f\"}, \"marker\": {\"line\": {\"color\": \"#E5ECF6\", \"width\": 0.5}}, \"type\": \"bar\"}], \"barpolar\": [{\"marker\": {\"line\": {\"color\": \"#E5ECF6\", \"width\": 0.5}}, \"type\": \"barpolar\"}], \"carpet\": [{\"aaxis\": {\"endlinecolor\": \"#2a3f5f\", \"gridcolor\": \"white\", \"linecolor\": \"white\", \"minorgridcolor\": \"white\", \"startlinecolor\": \"#2a3f5f\"}, \"baxis\": {\"endlinecolor\": \"#2a3f5f\", \"gridcolor\": \"white\", \"linecolor\": \"white\", \"minorgridcolor\": \"white\", \"startlinecolor\": \"#2a3f5f\"}, \"type\": \"carpet\"}], \"choropleth\": [{\"colorbar\": {\"outlinewidth\": 0, \"ticks\": \"\"}, \"type\": \"choropleth\"}], \"contour\": [{\"colorbar\": {\"outlinewidth\": 0, \"ticks\": \"\"}, \"colorscale\": [[0.0, \"#0d0887\"], [0.1111111111111111, \"#46039f\"], [0.2222222222222222, \"#7201a8\"], [0.3333333333333333, \"#9c179e\"], [0.4444444444444444, \"#bd3786\"], [0.5555555555555556, \"#d8576b\"], [0.6666666666666666, \"#ed7953\"], [0.7777777777777778, \"#fb9f3a\"], [0.8888888888888888, \"#fdca26\"], [1.0, \"#f0f921\"]], \"type\": \"contour\"}], \"contourcarpet\": [{\"colorbar\": {\"outlinewidth\": 0, \"ticks\": \"\"}, \"type\": \"contourcarpet\"}], \"heatmap\": [{\"colorbar\": {\"outlinewidth\": 0, \"ticks\": \"\"}, \"colorscale\": [[0.0, \"#0d0887\"], [0.1111111111111111, \"#46039f\"], [0.2222222222222222, \"#7201a8\"], [0.3333333333333333, \"#9c179e\"], [0.4444444444444444, \"#bd3786\"], [0.5555555555555556, \"#d8576b\"], [0.6666666666666666, \"#ed7953\"], [0.7777777777777778, \"#fb9f3a\"], [0.8888888888888888, \"#fdca26\"], [1.0, \"#f0f921\"]], \"type\": \"heatmap\"}], \"heatmapgl\": [{\"colorbar\": {\"outlinewidth\": 0, \"ticks\": \"\"}, \"colorscale\": [[0.0, \"#0d0887\"], [0.1111111111111111, \"#46039f\"], [0.2222222222222222, \"#7201a8\"], [0.3333333333333333, \"#9c179e\"], [0.4444444444444444, \"#bd3786\"], [0.5555555555555556, \"#d8576b\"], [0.6666666666666666, \"#ed7953\"], [0.7777777777777778, \"#fb9f3a\"], [0.8888888888888888, \"#fdca26\"], [1.0, \"#f0f921\"]], \"type\": \"heatmapgl\"}], \"histogram\": [{\"marker\": {\"colorbar\": {\"outlinewidth\": 0, \"ticks\": \"\"}}, \"type\": \"histogram\"}], \"histogram2d\": [{\"colorbar\": {\"outlinewidth\": 0, \"ticks\": \"\"}, \"colorscale\": [[0.0, \"#0d0887\"], [0.1111111111111111, \"#46039f\"], [0.2222222222222222, \"#7201a8\"], [0.3333333333333333, \"#9c179e\"], [0.4444444444444444, \"#bd3786\"], [0.5555555555555556, \"#d8576b\"], [0.6666666666666666, \"#ed7953\"], [0.7777777777777778, \"#fb9f3a\"], [0.8888888888888888, \"#fdca26\"], [1.0, \"#f0f921\"]], \"type\": \"histogram2d\"}], \"histogram2dcontour\": [{\"colorbar\": {\"outlinewidth\": 0, \"ticks\": \"\"}, \"colorscale\": [[0.0, \"#0d0887\"], [0.1111111111111111, \"#46039f\"], [0.2222222222222222, \"#7201a8\"], [0.3333333333333333, \"#9c179e\"], [0.4444444444444444, \"#bd3786\"], [0.5555555555555556, \"#d8576b\"], [0.6666666666666666, \"#ed7953\"], [0.7777777777777778, \"#fb9f3a\"], [0.8888888888888888, \"#fdca26\"], [1.0, \"#f0f921\"]], \"type\": \"histogram2dcontour\"}], \"mesh3d\": [{\"colorbar\": {\"outlinewidth\": 0, \"ticks\": \"\"}, \"type\": \"mesh3d\"}], \"parcoords\": [{\"line\": {\"colorbar\": {\"outlinewidth\": 0, \"ticks\": \"\"}}, \"type\": \"parcoords\"}], \"pie\": [{\"automargin\": true, \"type\": \"pie\"}], \"scatter\": [{\"marker\": {\"colorbar\": {\"outlinewidth\": 0, \"ticks\": \"\"}}, \"type\": \"scatter\"}], \"scatter3d\": [{\"line\": {\"colorbar\": {\"outlinewidth\": 0, \"ticks\": \"\"}}, \"marker\": {\"colorbar\": {\"outlinewidth\": 0, \"ticks\": \"\"}}, \"type\": \"scatter3d\"}], \"scattercarpet\": [{\"marker\": {\"colorbar\": {\"outlinewidth\": 0, \"ticks\": \"\"}}, \"type\": \"scattercarpet\"}], \"scattergeo\": [{\"marker\": {\"colorbar\": {\"outlinewidth\": 0, \"ticks\": \"\"}}, \"type\": \"scattergeo\"}], \"scattergl\": [{\"marker\": {\"colorbar\": {\"outlinewidth\": 0, \"ticks\": \"\"}}, \"type\": \"scattergl\"}], \"scattermapbox\": [{\"marker\": {\"colorbar\": {\"outlinewidth\": 0, \"ticks\": \"\"}}, \"type\": \"scattermapbox\"}], \"scatterpolar\": [{\"marker\": {\"colorbar\": {\"outlinewidth\": 0, \"ticks\": \"\"}}, \"type\": \"scatterpolar\"}], \"scatterpolargl\": [{\"marker\": {\"colorbar\": {\"outlinewidth\": 0, \"ticks\": \"\"}}, \"type\": \"scatterpolargl\"}], \"scatterternary\": [{\"marker\": {\"colorbar\": {\"outlinewidth\": 0, \"ticks\": \"\"}}, \"type\": \"scatterternary\"}], \"surface\": [{\"colorbar\": {\"outlinewidth\": 0, \"ticks\": \"\"}, \"colorscale\": [[0.0, \"#0d0887\"], [0.1111111111111111, \"#46039f\"], [0.2222222222222222, \"#7201a8\"], [0.3333333333333333, \"#9c179e\"], [0.4444444444444444, \"#bd3786\"], [0.5555555555555556, \"#d8576b\"], [0.6666666666666666, \"#ed7953\"], [0.7777777777777778, \"#fb9f3a\"], [0.8888888888888888, \"#fdca26\"], [1.0, \"#f0f921\"]], \"type\": \"surface\"}], \"table\": [{\"cells\": {\"fill\": {\"color\": \"#EBF0F8\"}, \"line\": {\"color\": \"white\"}}, \"header\": {\"fill\": {\"color\": \"#C8D4E3\"}, \"line\": {\"color\": \"white\"}}, \"type\": \"table\"}]}, \"layout\": {\"annotationdefaults\": {\"arrowcolor\": \"#2a3f5f\", \"arrowhead\": 0, \"arrowwidth\": 1}, \"coloraxis\": {\"colorbar\": {\"outlinewidth\": 0, \"ticks\": \"\"}}, \"colorscale\": {\"diverging\": [[0, \"#8e0152\"], [0.1, \"#c51b7d\"], [0.2, \"#de77ae\"], [0.3, \"#f1b6da\"], [0.4, \"#fde0ef\"], [0.5, \"#f7f7f7\"], [0.6, \"#e6f5d0\"], [0.7, \"#b8e186\"], [0.8, \"#7fbc41\"], [0.9, \"#4d9221\"], [1, \"#276419\"]], \"sequential\": [[0.0, \"#0d0887\"], [0.1111111111111111, \"#46039f\"], [0.2222222222222222, \"#7201a8\"], [0.3333333333333333, \"#9c179e\"], [0.4444444444444444, \"#bd3786\"], [0.5555555555555556, \"#d8576b\"], [0.6666666666666666, \"#ed7953\"], [0.7777777777777778, \"#fb9f3a\"], [0.8888888888888888, \"#fdca26\"], [1.0, \"#f0f921\"]], \"sequentialminus\": [[0.0, \"#0d0887\"], [0.1111111111111111, \"#46039f\"], [0.2222222222222222, \"#7201a8\"], [0.3333333333333333, \"#9c179e\"], [0.4444444444444444, \"#bd3786\"], [0.5555555555555556, \"#d8576b\"], [0.6666666666666666, \"#ed7953\"], [0.7777777777777778, \"#fb9f3a\"], [0.8888888888888888, \"#fdca26\"], [1.0, \"#f0f921\"]]}, \"colorway\": [\"#636efa\", \"#EF553B\", \"#00cc96\", \"#ab63fa\", \"#FFA15A\", \"#19d3f3\", \"#FF6692\", \"#B6E880\", \"#FF97FF\", \"#FECB52\"], \"font\": {\"color\": \"#2a3f5f\"}, \"geo\": {\"bgcolor\": \"white\", \"lakecolor\": \"white\", \"landcolor\": \"#E5ECF6\", \"showlakes\": true, \"showland\": true, \"subunitcolor\": \"white\"}, \"hoverlabel\": {\"align\": \"left\"}, \"hovermode\": \"closest\", \"mapbox\": {\"style\": \"light\"}, \"paper_bgcolor\": \"white\", \"plot_bgcolor\": \"#E5ECF6\", \"polar\": {\"angularaxis\": {\"gridcolor\": \"white\", \"linecolor\": \"white\", \"ticks\": \"\"}, \"bgcolor\": \"#E5ECF6\", \"radialaxis\": {\"gridcolor\": \"white\", \"linecolor\": \"white\", \"ticks\": \"\"}}, \"scene\": {\"xaxis\": {\"backgroundcolor\": \"#E5ECF6\", \"gridcolor\": \"white\", \"gridwidth\": 2, \"linecolor\": \"white\", \"showbackground\": true, \"ticks\": \"\", \"zerolinecolor\": \"white\"}, \"yaxis\": {\"backgroundcolor\": \"#E5ECF6\", \"gridcolor\": \"white\", \"gridwidth\": 2, \"linecolor\": \"white\", \"showbackground\": true, \"ticks\": \"\", \"zerolinecolor\": \"white\"}, \"zaxis\": {\"backgroundcolor\": \"#E5ECF6\", \"gridcolor\": \"white\", \"gridwidth\": 2, \"linecolor\": \"white\", \"showbackground\": true, \"ticks\": \"\", \"zerolinecolor\": \"white\"}}, \"shapedefaults\": {\"line\": {\"color\": \"#2a3f5f\"}}, \"ternary\": {\"aaxis\": {\"gridcolor\": \"white\", \"linecolor\": \"white\", \"ticks\": \"\"}, \"baxis\": {\"gridcolor\": \"white\", \"linecolor\": \"white\", \"ticks\": \"\"}, \"bgcolor\": \"#E5ECF6\", \"caxis\": {\"gridcolor\": \"white\", \"linecolor\": \"white\", \"ticks\": \"\"}}, \"title\": {\"x\": 0.05}, \"xaxis\": {\"automargin\": true, \"gridcolor\": \"white\", \"linecolor\": \"white\", \"ticks\": \"\", \"title\": {\"standoff\": 15}, \"zerolinecolor\": \"white\", \"zerolinewidth\": 2}, \"yaxis\": {\"automargin\": true, \"gridcolor\": \"white\", \"linecolor\": \"white\", \"ticks\": \"\", \"title\": {\"standoff\": 15}, \"zerolinecolor\": \"white\", \"zerolinewidth\": 2}}}, \"title\": {\"text\": \"Shipment Mode\"}},                        {\"responsive\": true}                    ).then(function(){\n",
       "                            \n",
       "var gd = document.getElementById('aaa070e1-05e9-4341-81f7-fb2afbf16388');\n",
       "var x = new MutationObserver(function (mutations, observer) {{\n",
       "        var display = window.getComputedStyle(gd).display;\n",
       "        if (!display || display === 'none') {{\n",
       "            console.log([gd, 'removed!']);\n",
       "            Plotly.purge(gd);\n",
       "            observer.disconnect();\n",
       "        }}\n",
       "}});\n",
       "\n",
       "// Listen for the removal of the full notebook cells\n",
       "var notebookContainer = gd.closest('#notebook-container');\n",
       "if (notebookContainer) {{\n",
       "    x.observe(notebookContainer, {childList: true});\n",
       "}}\n",
       "\n",
       "// Listen for the clearing of the current output cell\n",
       "var outputEl = gd.closest('.output');\n",
       "if (outputEl) {{\n",
       "    x.observe(outputEl, {childList: true});\n",
       "}}\n",
       "\n",
       "                        })                };                });            </script>        </div>"
      ]
     },
     "metadata": {},
     "output_type": "display_data"
    }
   ],
   "source": [
    "ShippingMode = DataSet[\"Shipment Mode\"].value_counts()\n",
    "labels = (np.array(ShippingMode.index))\n",
    "sizes = (np.array((ShippingMode / ShippingMode.sum())*100))\n",
    "\n",
    "trace = go.Pie(labels=labels, values=sizes)\n",
    "layout = go.Layout(title=\"Shipment Mode\")\n",
    "dat = [trace]\n",
    "fig = go.Figure(data=dat, layout=layout)\n",
    "py.iplot(fig, filename=\"Shipment Mode\")"
   ]
  },
  {
   "cell_type": "markdown",
   "metadata": {
    "papermill": {
     "duration": 0.041419,
     "end_time": "2020-11-20T17:19:37.131696",
     "exception": false,
     "start_time": "2020-11-20T17:19:37.090277",
     "status": "completed"
    },
    "tags": []
   },
   "source": [
    "# Unquie Manufacturing Site Names"
   ]
  },
  {
   "cell_type": "code",
   "execution_count": 11,
   "metadata": {
    "execution": {
     "iopub.execute_input": "2020-11-20T17:19:37.223157Z",
     "iopub.status.busy": "2020-11-20T17:19:37.222104Z",
     "iopub.status.idle": "2020-11-20T17:19:37.229575Z",
     "shell.execute_reply": "2020-11-20T17:19:37.228591Z"
    },
    "papermill": {
     "duration": 0.057035,
     "end_time": "2020-11-20T17:19:37.229760",
     "exception": false,
     "start_time": "2020-11-20T17:19:37.172725",
     "status": "completed"
    },
    "tags": []
   },
   "outputs": [
    {
     "name": "stdout",
     "output_type": "stream",
     "text": [
      "All Unique Manufacturing Site \n",
      "\n",
      "['Ranbaxy Fine Chemicals LTD' 'Aurobindo Unit III, India'\n",
      " 'ABBVIE GmbH & Co.KG Wiesbaden' 'Ranbaxy, Paonta Shahib, India'\n",
      " 'MSD South Granville Australia' \"ABBVIE (Abbott) St. P'burg USA\"\n",
      " 'ABBVIE Ludwigshafen Germany' 'Trinity Biotech, Plc'\n",
      " 'EY Laboratories, USA' 'Cipla, Goa, India' 'BMS Meymac, France'\n",
      " 'Premier Med. Corp Ltd. India' 'Chembio Diagnostics Sys. Inc.'\n",
      " 'Inverness Japan' 'Pacific Biotech, Thailand'\n",
      " 'Standard Diagnostics, Korea' 'GSK Mississauga (Canada)'\n",
      " 'Gilead(Nycomed) Oranienburg DE' 'Bio-Rad Laboratories'\n",
      " 'Mylan (formerly Matrix) Nashik' 'Roche Basel' 'GSK Ware (UK)'\n",
      " 'Novartis Pharma AG, Switzerland' 'BI, Ingelheim, Germany'\n",
      " 'Not Applicable' 'Ipca Dadra/Nagar Haveli IN' 'MSD, Haarlem, NL'\n",
      " 'Aspen-OSD, Port Elizabeth, SA' 'ABBVIE (Abbott) Logis. UK'\n",
      " 'Gland Pharma Ltd Pally Factory' 'GSK Aranda'\n",
      " 'Hetero Unit III Hyderabad IN' 'ABBVIE (Abbott) France'\n",
      " 'Strides, Bangalore, India.' 'ABBSP' 'Cipla, Patalganga, India'\n",
      " 'GSK Cape Town Factory (South Africa)' \"MSD Midrand, J'burg, SA\"\n",
      " 'KHB Test Kit Facility, Shanghai China' 'bioLytical Laboratories'\n",
      " 'Inverness USA' 'Boehringer Ing., Koropi, GR' 'GSK Crawley'\n",
      " 'OMEGA Diagnostics, UK' 'Roche Madrid'\n",
      " 'BUNDI INTERNATIONAL DIAGNOSTICS LTD' 'INVERNESS ORGENICS LINE'\n",
      " 'Novartis Pharma Suffern, USA' 'Micro Labs Ltd. (Brown & Burk), India'\n",
      " 'Meditab (for Cipla) Daman IN' 'Medopharm Malur Factory, INDIA'\n",
      " 'ABBVIE (Abbott) Japan Co. Ltd.' 'MSD Elkton USA'\n",
      " 'Orasure Technologies, Inc USA'\n",
      " 'Weifa A.S., Hausmanngt. 6, P.O. Box 9113 GrÃ¸nland, 0133, Oslo, Norway'\n",
      " 'MSD Manati, Puerto Rico, (USA)' 'MSD Patheon, Canada'\n",
      " 'Emcure Plot No.P-2, I.T-B.T. Park, Phase II, MIDC, Hinjwadi, Pune, India'\n",
      " 'Alere Medical Co., Ltd.' 'Premier Medical Corporation'\n",
      " 'ABBVIE Labs North Chicago US' 'Janssen-Cilag, Latina, IT'\n",
      " 'Aurobindo Unit VII, IN' 'Micro labs, Verna, Goa, India'\n",
      " 'Orasure Technologies, Inc' 'Mylan,  H-12 & H-13, India'\n",
      " 'Hetero, Jadcherla, unit 5, IN' 'Bristol-Myers Squibb Anagni IT'\n",
      " 'Cipla Ltd A-42 MIDC Mahar. IN' 'Medochemie Factory A, CY'\n",
      " 'Boehringer Ingelheim Roxane US' 'BMS Evansville, US'\n",
      " 'GSK, U1, Poznan, Poland' 'Janssen Ortho LLC, Puerto Rico'\n",
      " 'Micro Labs, Hosur, India' 'Remedica, Limassol, Cyprus' 'INVERNESS ANY'\n",
      " 'Guilin OSD site, No 17, China' 'Cipla, Kurkumbh, India'\n",
      " 'GSK Barnard Castle UK' 'Gland Pharma, Hyderabad, IN' 'Access BIO, L.C.'\n",
      " 'Human Diagnostic' 'Mepro Pharm Wadhwan Unit II'\n",
      " 'Ranbaxy per Shasun Pharma Ltd' 'MedMira Inc.'\n",
      " 'Ranbaxy per Shasun Pharma' 'Macleods Daman Plant INDIA']\n"
     ]
    }
   ],
   "source": [
    "UniqueItem = DataSet['Manufacturing Site'].unique()\n",
    "print(\"All Unique Manufacturing Site \\n\")\n",
    "print(UniqueItem)"
   ]
  },
  {
   "cell_type": "markdown",
   "metadata": {
    "papermill": {
     "duration": 0.039978,
     "end_time": "2020-11-20T17:19:37.311136",
     "exception": false,
     "start_time": "2020-11-20T17:19:37.271158",
     "status": "completed"
    },
    "tags": []
   },
   "source": [
    "# Shipment Mode, Min and Mean value for Air"
   ]
  },
  {
   "cell_type": "code",
   "execution_count": 12,
   "metadata": {
    "execution": {
     "iopub.execute_input": "2020-11-20T17:19:37.403210Z",
     "iopub.status.busy": "2020-11-20T17:19:37.402382Z",
     "iopub.status.idle": "2020-11-20T17:19:37.415528Z",
     "shell.execute_reply": "2020-11-20T17:19:37.414868Z"
    },
    "papermill": {
     "duration": 0.063844,
     "end_time": "2020-11-20T17:19:37.415679",
     "exception": false,
     "start_time": "2020-11-20T17:19:37.351835",
     "status": "completed"
    },
    "tags": []
   },
   "outputs": [
    {
     "name": "stdout",
     "output_type": "stream",
     "text": [
      "The Max Air Shipment Mode is : 1000\n",
      "The Min Air Shipment is : 1\n",
      "The Mean Air Shipment is : 82.34\n"
     ]
    }
   ],
   "source": [
    "ItemData=DataSet[DataSet['Shipment Mode']=='Air']\n",
    "print (\"The Max Air Shipment Mode is :\",ItemData['Unit of Measure (Per Pack)'].max())\n",
    "print (\"The Min Air Shipment is :\",ItemData['Unit of Measure (Per Pack)'].min())\n",
    "ItemTypeMean = ItemData['Unit of Measure (Per Pack)'].mean()\n",
    "print (\"The Mean Air Shipment is :\", round(ItemTypeMean,2))"
   ]
  },
  {
   "cell_type": "markdown",
   "metadata": {
    "papermill": {
     "duration": 0.041601,
     "end_time": "2020-11-20T17:19:37.499319",
     "exception": false,
     "start_time": "2020-11-20T17:19:37.457718",
     "status": "completed"
    },
    "tags": []
   },
   "source": [
    "# Top 10 Manufacturing Site for all Shipment Mode with Graph"
   ]
  },
  {
   "cell_type": "code",
   "execution_count": 13,
   "metadata": {
    "execution": {
     "iopub.execute_input": "2020-11-20T17:19:37.594822Z",
     "iopub.status.busy": "2020-11-20T17:19:37.593889Z",
     "iopub.status.idle": "2020-11-20T17:19:37.870277Z",
     "shell.execute_reply": "2020-11-20T17:19:37.869637Z"
    },
    "papermill": {
     "duration": 0.329097,
     "end_time": "2020-11-20T17:19:37.870463",
     "exception": false,
     "start_time": "2020-11-20T17:19:37.541366",
     "status": "completed"
    },
    "tags": []
   },
   "outputs": [
    {
     "name": "stdout",
     "output_type": "stream",
     "text": [
      "Manufacturing Site\n",
      "Aurobindo Unit III, India         3172\n",
      "Mylan (formerly Matrix) Nashik    1415\n",
      "Hetero Unit III Hyderabad IN       869\n",
      "Cipla, Goa, India                  665\n",
      "Strides, Bangalore, India.         540\n",
      "Alere Medical Co., Ltd.            481\n",
      "Trinity Biotech, Plc               405\n",
      "ABBVIE Ludwigshafen Germany        366\n",
      "Inverness Japan                    345\n",
      "ABBVIE (Abbott) Logis. UK          219\n",
      "dtype: int64\n"
     ]
    },
    {
     "data": {
      "text/plain": [
       "Text(0.5, 0, 'Manufacturing Site Name')"
      ]
     },
     "execution_count": 13,
     "metadata": {},
     "output_type": "execute_result"
    },
    {
     "data": {
      "image/png": "[encoded data removed]",
      "text/plain": [
       "<Figure size 1584x432 with 1 Axes>"
      ]
     },
     "metadata": {
      "needs_background": "light"
     },
     "output_type": "display_data"
    }
   ],
   "source": [
    "plt.figure(figsize=(22,6))\n",
    "TopFiveManufacturingSite=DataSet.groupby('Manufacturing Site').size().nlargest(10)\n",
    "print(TopFiveManufacturingSite)\n",
    "TopFiveManufacturingSite.plot(kind='bar')\n",
    "plt.title('Top 10 Manufacturing Site \\n')\n",
    "plt.ylabel('Total Count')\n",
    "plt.xlabel('Manufacturing Site Name')"
   ]
  },
  {
   "cell_type": "markdown",
   "metadata": {
    "papermill": {
     "duration": 0.044002,
     "end_time": "2020-11-20T17:19:37.959294",
     "exception": false,
     "start_time": "2020-11-20T17:19:37.915292",
     "status": "completed"
    },
    "tags": []
   },
   "source": [
    "# Top 10 Manufacturing Site for Air Shipment Mode with Graph"
   ]
  },
  {
   "cell_type": "code",
   "execution_count": 14,
   "metadata": {
    "execution": {
     "iopub.execute_input": "2020-11-20T17:19:38.064079Z",
     "iopub.status.busy": "2020-11-20T17:19:38.063297Z",
     "iopub.status.idle": "2020-11-20T17:19:38.405884Z",
     "shell.execute_reply": "2020-11-20T17:19:38.405224Z"
    },
    "papermill": {
     "duration": 0.401395,
     "end_time": "2020-11-20T17:19:38.406015",
     "exception": false,
     "start_time": "2020-11-20T17:19:38.004620",
     "status": "completed"
    },
    "tags": []
   },
   "outputs": [
    {
     "name": "stdout",
     "output_type": "stream",
     "text": [
      "Top 10 Air Manufacturing Site \n",
      "\n",
      "Aurobindo Unit III, India         1694\n",
      "Mylan (formerly Matrix) Nashik     695\n",
      "Alere Medical Co., Ltd.            473\n",
      "Hetero Unit III Hyderabad IN       417\n",
      "Trinity Biotech, Plc               383\n",
      "Inverness Japan                    320\n",
      "ABBVIE Ludwigshafen Germany        285\n",
      "Cipla, Goa, India                  274\n",
      "Strides, Bangalore, India.         256\n",
      "ABBVIE (Abbott) Logis. UK          150\n",
      "Name: Manufacturing Site, dtype: int64\n"
     ]
    },
    {
     "data": {
      "text/plain": [
       "Text(0.5, 0, 'Manufacturing Site')"
      ]
     },
     "execution_count": 14,
     "metadata": {},
     "output_type": "execute_result"
    },
    {
     "data": {
      "image/png": "[encoded data removed]",
      "text/plain": [
       "<Figure size 1584x432 with 1 Axes>"
      ]
     },
     "metadata": {
      "needs_background": "light"
     },
     "output_type": "display_data"
    }
   ],
   "source": [
    "# Top 10 Air Shipment Mode in Bar Chart\n",
    "ItemData=DataSet[DataSet['Shipment Mode']=='Air']\n",
    "DataSet[DataSet[\"Shipment Mode\"]=='Air']['Manufacturing Site'].value_counts()[0:10].to_frame().plot.bar(figsize=(22,6))\n",
    "ItemSupplier = DataSet[DataSet[\"Shipment Mode\"]=='Air']['Manufacturing Site'].value_counts()[0:10]\n",
    "print(\"Top 10 Air Manufacturing Site \\n\")\n",
    "print(ItemSupplier)\n",
    "plt.title('Top 10 Air Manufacturing Site\\n')\n",
    "plt.ylabel('Air Count')\n",
    "plt.xlabel('Manufacturing Site')"
   ]
  },
  {
   "cell_type": "markdown",
   "metadata": {
    "papermill": {
     "duration": 0.046511,
     "end_time": "2020-11-20T17:19:38.500370",
     "exception": false,
     "start_time": "2020-11-20T17:19:38.453859",
     "status": "completed"
    },
    "tags": []
   },
   "source": [
    "# Shipment Mode and Pack Price in Bar Plot Graph"
   ]
  },
  {
   "cell_type": "code",
   "execution_count": 15,
   "metadata": {
    "execution": {
     "iopub.execute_input": "2020-11-20T17:19:38.608554Z",
     "iopub.status.busy": "2020-11-20T17:19:38.607682Z",
     "iopub.status.idle": "2020-11-20T17:19:39.025594Z",
     "shell.execute_reply": "2020-11-20T17:19:39.024768Z"
    },
    "papermill": {
     "duration": 0.478874,
     "end_time": "2020-11-20T17:19:39.025741",
     "exception": false,
     "start_time": "2020-11-20T17:19:38.546867",
     "status": "completed"
    },
    "tags": []
   },
   "outputs": [
    {
     "data": {
      "image/png": "[encoded data removed]",
      "text/plain": [
       "<Figure size 1296x432 with 1 Axes>"
      ]
     },
     "metadata": {
      "needs_background": "light"
     },
     "output_type": "display_data"
    }
   ],
   "source": [
    "plt.subplots(figsize = (18,6))\n",
    "plt.xticks(rotation = 90)\n",
    "sn.barplot('Shipment Mode','Pack Price', data = DataSet)\n",
    "plt.show()"
   ]
  },
  {
   "cell_type": "markdown",
   "metadata": {
    "papermill": {
     "duration": 0.048694,
     "end_time": "2020-11-20T17:19:39.125038",
     "exception": false,
     "start_time": "2020-11-20T17:19:39.076344",
     "status": "completed"
    },
    "tags": []
   },
   "source": [
    "#  **Conclusion**\n",
    "* Top Country for Pack Price : Nigeria - 25,620.72\n",
    "* Top Shipping Mode : Air\n",
    "* The Max Air Shipment Mode is : 1000\n",
    "* The Min Air Shipment is : 1\n",
    "* The Mean Air Shipment is : 82.35\n",
    "* Top Manufacturing Site : Aurobindo Unit III, India - 3172\n",
    "* Top Air Manufacturing Site : Aurobindo Unit III, India - 1694"
   ]
  }
 ],
 "metadata": {
  "kernelspec": {
   "display_name": "Python 3",
   "language": "python",
   "name": "python3"
  },
  "language_info": {
   "codemirror_mode": {
    "name": "ipython",
    "version": 3
   },
   "file_extension": ".py",
   "mimetype": "text/x-python",
   "name": "python",
   "nbconvert_exporter": "python",
   "pygments_lexer": "ipython3",
   "version": "3.7.6"
  },
  "papermill": {
   "duration": 12.275313,
   "end_time": "2020-11-20T17:19:39.283302",
   "environment_variables": {},
   "exception": null,
   "input_path": "__notebook__.ipynb",
   "output_path": "__notebook__.ipynb",
   "parameters": {},
   "start_time": "2020-11-20T17:19:27.007989",
   "version": "2.1.0"
  }
 },
 "nbformat": 4,
 "nbformat_minor": 4
}
